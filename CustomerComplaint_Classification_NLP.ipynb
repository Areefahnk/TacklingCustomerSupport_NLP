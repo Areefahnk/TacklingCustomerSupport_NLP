{
  "nbformat": 4,
  "nbformat_minor": 0,
  "metadata": {
    "colab": {
      "name": "CustomerComplaint_Classification_NLP.ipynb",
      "provenance": [],
      "collapsed_sections": [],
      "mount_file_id": "1Xl7aN7zCYxTXHTeRLsW2PHSvQmZTwQLB",
      "authorship_tag": "ABX9TyNiS1d/aJ4bXSqkpCE4OtUP",
      "include_colab_link": true
    },
    "kernelspec": {
      "display_name": "Python 3",
      "name": "python3"
    },
    "language_info": {
      "name": "python"
    }
  },
  "cells": [
    {
      "cell_type": "markdown",
      "metadata": {
        "id": "view-in-github",
        "colab_type": "text"
      },
      "source": [
        "<a href=\"https://colab.research.google.com/github/Areefahnk/TacklingCustomerSupport_NLP/blob/main/CustomerComplaint_Classification_NLP.ipynb\" target=\"_parent\"><img src=\"https://colab.research.google.com/assets/colab-badge.svg\" alt=\"Open In Colab\"/></a>"
      ]
    },
    {
      "cell_type": "code",
      "metadata": {
        "colab": {
          "base_uri": "https://localhost:8080/"
        },
        "id": "ZOrRDI0lc1M_",
        "outputId": "6daae085-9a0e-477e-e853-ac004f9b7708"
      },
      "source": [
        "\n",
        "import numpy as np\n",
        "import pandas as pd\n",
        "seed = 69 # set random seed for whole document\n",
        "\n",
        "# Graph plotting\n",
        "import matplotlib.pyplot as plt\n",
        "import seaborn as sns\n",
        "\n",
        "# Displaying dataframes\n",
        "from IPython.display import display\n",
        "\n",
        "# Natural Language Processing Thingamajibs\n",
        "import re\n",
        "import string\n",
        "import nltk\n",
        "nltk.download('stopwords')\n",
        "from nltk.corpus import stopwords\n",
        "from gensim.models import Word2Vec, word2vec\n",
        "from sklearn.feature_extraction.text import TfidfVectorizer\n",
        "from sklearn.feature_selection import chi2\n",
        "import gensim\n",
        "\n",
        "# Classifiers\n",
        "from sklearn.naive_bayes import GaussianNB, BernoulliNB, MultinomialNB\n",
        "from sklearn.linear_model import LogisticRegression\n",
        "from sklearn.neighbors import KNeighborsClassifier\n",
        "from sklearn.tree import DecisionTreeClassifier\n",
        "from sklearn.ensemble import RandomForestClassifier\n",
        "from sklearn.svm import LinearSVC, SVC\n",
        "\n",
        "# Metrics to score classifiers\n",
        "from sklearn.metrics import confusion_matrix, classification_report\n",
        "from sklearn.metrics import accuracy_score, precision_score, recall_score, f1_score, auc, roc_curve, log_loss\n",
        "\n",
        "# Data splitting, CV\n",
        "from sklearn.model_selection import train_test_split\n",
        "from sklearn.model_selection import cross_val_score, KFold, StratifiedKFold\n",
        "\n",
        "# Lifesaver\n",
        "import pickle"
      ],
      "execution_count": 1,
      "outputs": [
        {
          "output_type": "stream",
          "name": "stdout",
          "text": [
            "[nltk_data] Downloading package stopwords to /root/nltk_data...\n",
            "[nltk_data]   Unzipping corpora/stopwords.zip.\n"
          ]
        }
      ]
    },
    {
      "cell_type": "code",
      "metadata": {
        "colab": {
          "base_uri": "https://localhost:8080/"
        },
        "id": "lxCXFZMKRhHb",
        "outputId": "15e8ac5e-19f6-4941-be50-846b37c94269"
      },
      "source": [
        "from google.colab import drive\n",
        "drive.mount('/content/drive')"
      ],
      "execution_count": 3,
      "outputs": [
        {
          "output_type": "stream",
          "name": "stdout",
          "text": [
            "Drive already mounted at /content/drive; to attempt to forcibly remount, call drive.mount(\"/content/drive\", force_remount=True).\n"
          ]
        }
      ]
    },
    {
      "cell_type": "code",
      "metadata": {
        "id": "xx4GxhBFRinB"
      },
      "source": [
        "import pandas as pd"
      ],
      "execution_count": null,
      "outputs": []
    },
    {
      "cell_type": "code",
      "metadata": {
        "id": "e6kvHIr-SRBG"
      },
      "source": [
        "df = pd.read_csv('/content/drive/MyDrive/complaints.csv')"
      ],
      "execution_count": null,
      "outputs": []
    },
    {
      "cell_type": "code",
      "metadata": {
        "colab": {
          "base_uri": "https://localhost:8080/",
          "height": 712
        },
        "id": "CDEmkm1lSbsm",
        "outputId": "632f4261-67d1-4c7f-cef4-243239841941"
      },
      "source": [
        "df.head()"
      ],
      "execution_count": null,
      "outputs": [
        {
          "output_type": "execute_result",
          "data": {
            "text/html": [
              "<div>\n",
              "<style scoped>\n",
              "    .dataframe tbody tr th:only-of-type {\n",
              "        vertical-align: middle;\n",
              "    }\n",
              "\n",
              "    .dataframe tbody tr th {\n",
              "        vertical-align: top;\n",
              "    }\n",
              "\n",
              "    .dataframe thead th {\n",
              "        text-align: right;\n",
              "    }\n",
              "</style>\n",
              "<table border=\"1\" class=\"dataframe\">\n",
              "  <thead>\n",
              "    <tr style=\"text-align: right;\">\n",
              "      <th></th>\n",
              "      <th>Date received</th>\n",
              "      <th>Product</th>\n",
              "      <th>Sub-product</th>\n",
              "      <th>Issue</th>\n",
              "      <th>Sub-issue</th>\n",
              "      <th>Consumer complaint narrative</th>\n",
              "      <th>Company public response</th>\n",
              "      <th>Company</th>\n",
              "      <th>State</th>\n",
              "      <th>ZIP code</th>\n",
              "      <th>Tags</th>\n",
              "      <th>Consumer consent provided?</th>\n",
              "      <th>Submitted via</th>\n",
              "      <th>Date sent to company</th>\n",
              "      <th>Company response to consumer</th>\n",
              "      <th>Timely response?</th>\n",
              "      <th>Consumer disputed?</th>\n",
              "      <th>Complaint ID</th>\n",
              "    </tr>\n",
              "  </thead>\n",
              "  <tbody>\n",
              "    <tr>\n",
              "      <th>0</th>\n",
              "      <td>13-06-2019</td>\n",
              "      <td>Credit reporting, credit repair services, or o...</td>\n",
              "      <td>Credit reporting</td>\n",
              "      <td>Incorrect information on your report</td>\n",
              "      <td>Information belongs to someone else</td>\n",
              "      <td>NaN</td>\n",
              "      <td>NaN</td>\n",
              "      <td>CAPITAL ONE FINANCIAL CORPORATION</td>\n",
              "      <td>PA</td>\n",
              "      <td>186XX</td>\n",
              "      <td>NaN</td>\n",
              "      <td>Consent not provided</td>\n",
              "      <td>Web</td>\n",
              "      <td>13-06-2019</td>\n",
              "      <td>Closed with explanation</td>\n",
              "      <td>Yes</td>\n",
              "      <td>NaN</td>\n",
              "      <td>3274605</td>\n",
              "    </tr>\n",
              "    <tr>\n",
              "      <th>1</th>\n",
              "      <td>01-11-2019</td>\n",
              "      <td>Vehicle loan or lease</td>\n",
              "      <td>Loan</td>\n",
              "      <td>Struggling to pay your loan</td>\n",
              "      <td>Denied request to lower payments</td>\n",
              "      <td>I contacted Ally on Friday XX/XX/XXXX after fa...</td>\n",
              "      <td>Company has responded to the consumer and the ...</td>\n",
              "      <td>ALLY FINANCIAL INC.</td>\n",
              "      <td>NJ</td>\n",
              "      <td>088XX</td>\n",
              "      <td>NaN</td>\n",
              "      <td>Consent provided</td>\n",
              "      <td>Web</td>\n",
              "      <td>01-11-2019</td>\n",
              "      <td>Closed with explanation</td>\n",
              "      <td>Yes</td>\n",
              "      <td>NaN</td>\n",
              "      <td>3425257</td>\n",
              "    </tr>\n",
              "    <tr>\n",
              "      <th>2</th>\n",
              "      <td>01-04-2019</td>\n",
              "      <td>Credit reporting, credit repair services, or o...</td>\n",
              "      <td>Credit reporting</td>\n",
              "      <td>Incorrect information on your report</td>\n",
              "      <td>Account status incorrect</td>\n",
              "      <td>NaN</td>\n",
              "      <td>Company has responded to the consumer and the ...</td>\n",
              "      <td>TRANSUNION INTERMEDIATE HOLDINGS, INC.</td>\n",
              "      <td>PA</td>\n",
              "      <td>19067</td>\n",
              "      <td>NaN</td>\n",
              "      <td>Consent not provided</td>\n",
              "      <td>Web</td>\n",
              "      <td>01-04-2019</td>\n",
              "      <td>Closed with explanation</td>\n",
              "      <td>Yes</td>\n",
              "      <td>NaN</td>\n",
              "      <td>3198225</td>\n",
              "    </tr>\n",
              "    <tr>\n",
              "      <th>3</th>\n",
              "      <td>15-10-2021</td>\n",
              "      <td>Debt collection</td>\n",
              "      <td>Other debt</td>\n",
              "      <td>Written notification about debt</td>\n",
              "      <td>Didn't receive enough information to verify debt</td>\n",
              "      <td>NaN</td>\n",
              "      <td>NaN</td>\n",
              "      <td>ENCORE CAPITAL GROUP INC.</td>\n",
              "      <td>MA</td>\n",
              "      <td>1103</td>\n",
              "      <td>NaN</td>\n",
              "      <td>NaN</td>\n",
              "      <td>Web</td>\n",
              "      <td>15-10-2021</td>\n",
              "      <td>Closed with explanation</td>\n",
              "      <td>Yes</td>\n",
              "      <td>NaN</td>\n",
              "      <td>4813701</td>\n",
              "    </tr>\n",
              "    <tr>\n",
              "      <th>4</th>\n",
              "      <td>28-10-2021</td>\n",
              "      <td>Credit reporting, credit repair services, or o...</td>\n",
              "      <td>Credit reporting</td>\n",
              "      <td>Problem with a credit reporting company's inve...</td>\n",
              "      <td>Was not notified of investigation status or re...</td>\n",
              "      <td>NaN</td>\n",
              "      <td>NaN</td>\n",
              "      <td>EQUIFAX, INC.</td>\n",
              "      <td>CA</td>\n",
              "      <td>95206</td>\n",
              "      <td>NaN</td>\n",
              "      <td>NaN</td>\n",
              "      <td>Web</td>\n",
              "      <td>28-10-2021</td>\n",
              "      <td>In progress</td>\n",
              "      <td>Yes</td>\n",
              "      <td>NaN</td>\n",
              "      <td>4854258</td>\n",
              "    </tr>\n",
              "  </tbody>\n",
              "</table>\n",
              "</div>"
            ],
            "text/plain": [
              "  Date received  ... Complaint ID\n",
              "0    13-06-2019  ...      3274605\n",
              "1    01-11-2019  ...      3425257\n",
              "2    01-04-2019  ...      3198225\n",
              "3    15-10-2021  ...      4813701\n",
              "4    28-10-2021  ...      4854258\n",
              "\n",
              "[5 rows x 18 columns]"
            ]
          },
          "metadata": {},
          "execution_count": 6
        }
      ]
    },
    {
      "cell_type": "markdown",
      "metadata": {
        "id": "PSO-6farSs-W"
      },
      "source": [
        "**Data Cleaning**"
      ]
    },
    {
      "cell_type": "code",
      "metadata": {
        "id": "ln5xrVvASlYY"
      },
      "source": [
        "# Column Cleaning First. Columns are super nastily named\n",
        "df.rename(columns={'Date received':'DATE_RECEIVED',\n",
        "                  'Product':'PRODUCT',\n",
        "                  'Sub-product':'SUB_PRODUCT',\n",
        "                  'Issue':'ISSUE',\n",
        "                  'Sub-issue':'SUB_ISSUE',\n",
        "                  'Consumer complaint narrative':'CONSUMER_COMPLAINT_NARRATIVE',\n",
        "                  'Company public response':'COMPANY_PUBLIC_RESPONSE',\n",
        "                   'Company':'COMPANY',\n",
        "                   'State':'STATE',\n",
        "                   'ZIP code':'ZIP_CODE',\n",
        "                   'Tags':'TAGS',\n",
        "                   'Consumer consent provided?':'CONSUMER_CONSENT_PROVIDED',\n",
        "                   'Subbmited via':'SUBMITTED_VIA',\n",
        "                   'Date sent to company':'DATE_SENT_TO_COMPANY',\n",
        "                   'Company response to consumer':'COMPANY_RESPONSE_TO_CONSUMER',\n",
        "                   'Timely response?':'TIMELY_RESPONSE',\n",
        "                   'Consumer disputed?':'CONSUMER_DISPUTED',\n",
        "                   'Complaint ID':'COMPLAINT_ID'\n",
        "                  }, inplace=True)"
      ],
      "execution_count": null,
      "outputs": []
    },
    {
      "cell_type": "code",
      "metadata": {
        "colab": {
          "base_uri": "https://localhost:8080/",
          "height": 642
        },
        "id": "PmHEfGzSSvMf",
        "outputId": "e433a3ec-6a1a-4109-ca5f-333c36e3f3c7"
      },
      "source": [
        "df.head()"
      ],
      "execution_count": null,
      "outputs": [
        {
          "output_type": "execute_result",
          "data": {
            "text/html": [
              "<div>\n",
              "<style scoped>\n",
              "    .dataframe tbody tr th:only-of-type {\n",
              "        vertical-align: middle;\n",
              "    }\n",
              "\n",
              "    .dataframe tbody tr th {\n",
              "        vertical-align: top;\n",
              "    }\n",
              "\n",
              "    .dataframe thead th {\n",
              "        text-align: right;\n",
              "    }\n",
              "</style>\n",
              "<table border=\"1\" class=\"dataframe\">\n",
              "  <thead>\n",
              "    <tr style=\"text-align: right;\">\n",
              "      <th></th>\n",
              "      <th>DATE_RECEIVED</th>\n",
              "      <th>PRODUCT</th>\n",
              "      <th>SUB_PRODUCT</th>\n",
              "      <th>ISSUE</th>\n",
              "      <th>SUB_ISSUE</th>\n",
              "      <th>CONSUMER_COMPLAINT_NARRATIVE</th>\n",
              "      <th>COMPANY_PUBLIC_RESPONSE</th>\n",
              "      <th>COMPANY</th>\n",
              "      <th>STATE</th>\n",
              "      <th>ZIP_CODE</th>\n",
              "      <th>TAGS</th>\n",
              "      <th>CONSUMER_CONSENT_PROVIDED</th>\n",
              "      <th>Submitted via</th>\n",
              "      <th>DATE_SENT_TO_COMPANY</th>\n",
              "      <th>COMPANY_RESPONSE_TO_CONSUMER</th>\n",
              "      <th>TIMELY_RESPONSE</th>\n",
              "      <th>CONSUMER_DISPUTED</th>\n",
              "      <th>COMPLAINT_ID</th>\n",
              "    </tr>\n",
              "  </thead>\n",
              "  <tbody>\n",
              "    <tr>\n",
              "      <th>0</th>\n",
              "      <td>13-06-2019</td>\n",
              "      <td>Credit reporting, credit repair services, or o...</td>\n",
              "      <td>Credit reporting</td>\n",
              "      <td>Incorrect information on your report</td>\n",
              "      <td>Information belongs to someone else</td>\n",
              "      <td>NaN</td>\n",
              "      <td>NaN</td>\n",
              "      <td>CAPITAL ONE FINANCIAL CORPORATION</td>\n",
              "      <td>PA</td>\n",
              "      <td>186XX</td>\n",
              "      <td>NaN</td>\n",
              "      <td>Consent not provided</td>\n",
              "      <td>Web</td>\n",
              "      <td>13-06-2019</td>\n",
              "      <td>Closed with explanation</td>\n",
              "      <td>Yes</td>\n",
              "      <td>NaN</td>\n",
              "      <td>3274605</td>\n",
              "    </tr>\n",
              "    <tr>\n",
              "      <th>1</th>\n",
              "      <td>01-11-2019</td>\n",
              "      <td>Vehicle loan or lease</td>\n",
              "      <td>Loan</td>\n",
              "      <td>Struggling to pay your loan</td>\n",
              "      <td>Denied request to lower payments</td>\n",
              "      <td>I contacted Ally on Friday XX/XX/XXXX after fa...</td>\n",
              "      <td>Company has responded to the consumer and the ...</td>\n",
              "      <td>ALLY FINANCIAL INC.</td>\n",
              "      <td>NJ</td>\n",
              "      <td>088XX</td>\n",
              "      <td>NaN</td>\n",
              "      <td>Consent provided</td>\n",
              "      <td>Web</td>\n",
              "      <td>01-11-2019</td>\n",
              "      <td>Closed with explanation</td>\n",
              "      <td>Yes</td>\n",
              "      <td>NaN</td>\n",
              "      <td>3425257</td>\n",
              "    </tr>\n",
              "    <tr>\n",
              "      <th>2</th>\n",
              "      <td>01-04-2019</td>\n",
              "      <td>Credit reporting, credit repair services, or o...</td>\n",
              "      <td>Credit reporting</td>\n",
              "      <td>Incorrect information on your report</td>\n",
              "      <td>Account status incorrect</td>\n",
              "      <td>NaN</td>\n",
              "      <td>Company has responded to the consumer and the ...</td>\n",
              "      <td>TRANSUNION INTERMEDIATE HOLDINGS, INC.</td>\n",
              "      <td>PA</td>\n",
              "      <td>19067</td>\n",
              "      <td>NaN</td>\n",
              "      <td>Consent not provided</td>\n",
              "      <td>Web</td>\n",
              "      <td>01-04-2019</td>\n",
              "      <td>Closed with explanation</td>\n",
              "      <td>Yes</td>\n",
              "      <td>NaN</td>\n",
              "      <td>3198225</td>\n",
              "    </tr>\n",
              "    <tr>\n",
              "      <th>3</th>\n",
              "      <td>15-10-2021</td>\n",
              "      <td>Debt collection</td>\n",
              "      <td>Other debt</td>\n",
              "      <td>Written notification about debt</td>\n",
              "      <td>Didn't receive enough information to verify debt</td>\n",
              "      <td>NaN</td>\n",
              "      <td>NaN</td>\n",
              "      <td>ENCORE CAPITAL GROUP INC.</td>\n",
              "      <td>MA</td>\n",
              "      <td>1103</td>\n",
              "      <td>NaN</td>\n",
              "      <td>NaN</td>\n",
              "      <td>Web</td>\n",
              "      <td>15-10-2021</td>\n",
              "      <td>Closed with explanation</td>\n",
              "      <td>Yes</td>\n",
              "      <td>NaN</td>\n",
              "      <td>4813701</td>\n",
              "    </tr>\n",
              "    <tr>\n",
              "      <th>4</th>\n",
              "      <td>28-10-2021</td>\n",
              "      <td>Credit reporting, credit repair services, or o...</td>\n",
              "      <td>Credit reporting</td>\n",
              "      <td>Problem with a credit reporting company's inve...</td>\n",
              "      <td>Was not notified of investigation status or re...</td>\n",
              "      <td>NaN</td>\n",
              "      <td>NaN</td>\n",
              "      <td>EQUIFAX, INC.</td>\n",
              "      <td>CA</td>\n",
              "      <td>95206</td>\n",
              "      <td>NaN</td>\n",
              "      <td>NaN</td>\n",
              "      <td>Web</td>\n",
              "      <td>28-10-2021</td>\n",
              "      <td>In progress</td>\n",
              "      <td>Yes</td>\n",
              "      <td>NaN</td>\n",
              "      <td>4854258</td>\n",
              "    </tr>\n",
              "  </tbody>\n",
              "</table>\n",
              "</div>"
            ],
            "text/plain": [
              "  DATE_RECEIVED  ... COMPLAINT_ID\n",
              "0    13-06-2019  ...      3274605\n",
              "1    01-11-2019  ...      3425257\n",
              "2    01-04-2019  ...      3198225\n",
              "3    15-10-2021  ...      4813701\n",
              "4    28-10-2021  ...      4854258\n",
              "\n",
              "[5 rows x 18 columns]"
            ]
          },
          "metadata": {},
          "execution_count": 8
        }
      ]
    },
    {
      "cell_type": "markdown",
      "metadata": {
        "id": "dohAObdgS4Sd"
      },
      "source": [
        "**Dropping all rows that do not have Customer Complaint entries in them**"
      ]
    },
    {
      "cell_type": "code",
      "metadata": {
        "id": "B72aXNAoSwvX"
      },
      "source": [
        "df.dropna(axis=0, subset=['CONSUMER_COMPLAINT_NARRATIVE'], \n",
        "          inplace=True)"
      ],
      "execution_count": null,
      "outputs": []
    },
    {
      "cell_type": "markdown",
      "metadata": {
        "id": "GgfarclHTBsH"
      },
      "source": [
        "**Subsetting Dataframe for Text Multi-Classification Problem**"
      ]
    },
    {
      "cell_type": "code",
      "metadata": {
        "colab": {
          "base_uri": "https://localhost:8080/"
        },
        "id": "aPyYgqgbS3oB",
        "outputId": "7d0e5641-f0f3-41db-c0e1-6a6b97b40148"
      },
      "source": [
        "# Subsetting dataframe into columns useful for our text multi-classification problem\n",
        "df_product_and_complaint = df[['PRODUCT', 'CONSUMER_COMPLAINT_NARRATIVE']]\n",
        "\n",
        "# Renaming columns to something easier\n",
        "df_product_and_complaint.rename(columns={'CONSUMER_COMPLAINT_NARRATIVE':'CONSUMER_COMPLAINT'},inplace=True) \n",
        "df.rename(columns={'CONSUMER_COMPLAINT_NARRATIVE':'CONSUMER_COMPLAINT'},inplace=True)"
      ],
      "execution_count": null,
      "outputs": [
        {
          "output_type": "stream",
          "name": "stderr",
          "text": [
            "/usr/local/lib/python3.7/dist-packages/pandas/core/frame.py:4308: SettingWithCopyWarning: \n",
            "A value is trying to be set on a copy of a slice from a DataFrame\n",
            "\n",
            "See the caveats in the documentation: https://pandas.pydata.org/pandas-docs/stable/user_guide/indexing.html#returning-a-view-versus-a-copy\n",
            "  errors=errors,\n"
          ]
        }
      ]
    },
    {
      "cell_type": "code",
      "metadata": {
        "colab": {
          "base_uri": "https://localhost:8080/",
          "height": 206
        },
        "id": "guAwZ2j8TGL5",
        "outputId": "179d5f99-a299-481a-aa9f-4667d70ea927"
      },
      "source": [
        "df_product_and_complaint.head()"
      ],
      "execution_count": null,
      "outputs": [
        {
          "output_type": "execute_result",
          "data": {
            "text/html": [
              "<div>\n",
              "<style scoped>\n",
              "    .dataframe tbody tr th:only-of-type {\n",
              "        vertical-align: middle;\n",
              "    }\n",
              "\n",
              "    .dataframe tbody tr th {\n",
              "        vertical-align: top;\n",
              "    }\n",
              "\n",
              "    .dataframe thead th {\n",
              "        text-align: right;\n",
              "    }\n",
              "</style>\n",
              "<table border=\"1\" class=\"dataframe\">\n",
              "  <thead>\n",
              "    <tr style=\"text-align: right;\">\n",
              "      <th></th>\n",
              "      <th>PRODUCT</th>\n",
              "      <th>CONSUMER_COMPLAINT</th>\n",
              "    </tr>\n",
              "  </thead>\n",
              "  <tbody>\n",
              "    <tr>\n",
              "      <th>1</th>\n",
              "      <td>Vehicle loan or lease</td>\n",
              "      <td>I contacted Ally on Friday XX/XX/XXXX after fa...</td>\n",
              "    </tr>\n",
              "    <tr>\n",
              "      <th>12</th>\n",
              "      <td>Credit reporting, credit repair services, or o...</td>\n",
              "      <td>Hello This complaint is against the three cred...</td>\n",
              "    </tr>\n",
              "    <tr>\n",
              "      <th>13</th>\n",
              "      <td>Credit reporting, credit repair services, or o...</td>\n",
              "      <td>I am a victim of Identity Theft &amp; currently ha...</td>\n",
              "    </tr>\n",
              "    <tr>\n",
              "      <th>15</th>\n",
              "      <td>Credit reporting, credit repair services, or o...</td>\n",
              "      <td>Two accounts are still on my credit history af...</td>\n",
              "    </tr>\n",
              "    <tr>\n",
              "      <th>18</th>\n",
              "      <td>Credit reporting, credit repair services, or o...</td>\n",
              "      <td>Receiving daily telephone call ( s ) from XXXX...</td>\n",
              "    </tr>\n",
              "  </tbody>\n",
              "</table>\n",
              "</div>"
            ],
            "text/plain": [
              "                                              PRODUCT                                 CONSUMER_COMPLAINT\n",
              "1                               Vehicle loan or lease  I contacted Ally on Friday XX/XX/XXXX after fa...\n",
              "12  Credit reporting, credit repair services, or o...  Hello This complaint is against the three cred...\n",
              "13  Credit reporting, credit repair services, or o...  I am a victim of Identity Theft & currently ha...\n",
              "15  Credit reporting, credit repair services, or o...  Two accounts are still on my credit history af...\n",
              "18  Credit reporting, credit repair services, or o...  Receiving daily telephone call ( s ) from XXXX..."
            ]
          },
          "metadata": {},
          "execution_count": 11
        }
      ]
    },
    {
      "cell_type": "code",
      "metadata": {
        "id": "yG7m3ZtoTJ81"
      },
      "source": [
        "df=df_product_and_complaint"
      ],
      "execution_count": null,
      "outputs": []
    },
    {
      "cell_type": "code",
      "metadata": {
        "colab": {
          "base_uri": "https://localhost:8080/",
          "height": 206
        },
        "id": "5lNCSggATVMi",
        "outputId": "d2155649-1ff9-42b4-e732-111678c9bf07"
      },
      "source": [
        "df.head()"
      ],
      "execution_count": null,
      "outputs": [
        {
          "output_type": "execute_result",
          "data": {
            "text/html": [
              "<div>\n",
              "<style scoped>\n",
              "    .dataframe tbody tr th:only-of-type {\n",
              "        vertical-align: middle;\n",
              "    }\n",
              "\n",
              "    .dataframe tbody tr th {\n",
              "        vertical-align: top;\n",
              "    }\n",
              "\n",
              "    .dataframe thead th {\n",
              "        text-align: right;\n",
              "    }\n",
              "</style>\n",
              "<table border=\"1\" class=\"dataframe\">\n",
              "  <thead>\n",
              "    <tr style=\"text-align: right;\">\n",
              "      <th></th>\n",
              "      <th>PRODUCT</th>\n",
              "      <th>CONSUMER_COMPLAINT</th>\n",
              "    </tr>\n",
              "  </thead>\n",
              "  <tbody>\n",
              "    <tr>\n",
              "      <th>1</th>\n",
              "      <td>Vehicle loan or lease</td>\n",
              "      <td>I contacted Ally on Friday XX/XX/XXXX after fa...</td>\n",
              "    </tr>\n",
              "    <tr>\n",
              "      <th>12</th>\n",
              "      <td>Credit reporting, credit repair services, or o...</td>\n",
              "      <td>Hello This complaint is against the three cred...</td>\n",
              "    </tr>\n",
              "    <tr>\n",
              "      <th>13</th>\n",
              "      <td>Credit reporting, credit repair services, or o...</td>\n",
              "      <td>I am a victim of Identity Theft &amp; currently ha...</td>\n",
              "    </tr>\n",
              "    <tr>\n",
              "      <th>15</th>\n",
              "      <td>Credit reporting, credit repair services, or o...</td>\n",
              "      <td>Two accounts are still on my credit history af...</td>\n",
              "    </tr>\n",
              "    <tr>\n",
              "      <th>18</th>\n",
              "      <td>Credit reporting, credit repair services, or o...</td>\n",
              "      <td>Receiving daily telephone call ( s ) from XXXX...</td>\n",
              "    </tr>\n",
              "  </tbody>\n",
              "</table>\n",
              "</div>"
            ],
            "text/plain": [
              "                                              PRODUCT                                 CONSUMER_COMPLAINT\n",
              "1                               Vehicle loan or lease  I contacted Ally on Friday XX/XX/XXXX after fa...\n",
              "12  Credit reporting, credit repair services, or o...  Hello This complaint is against the three cred...\n",
              "13  Credit reporting, credit repair services, or o...  I am a victim of Identity Theft & currently ha...\n",
              "15  Credit reporting, credit repair services, or o...  Two accounts are still on my credit history af...\n",
              "18  Credit reporting, credit repair services, or o...  Receiving daily telephone call ( s ) from XXXX..."
            ]
          },
          "metadata": {},
          "execution_count": 13
        }
      ]
    },
    {
      "cell_type": "markdown",
      "source": [
        "**Exploring Consumer Complaints**"
      ],
      "metadata": {
        "id": "4u_CO89LTVTu"
      }
    },
    {
      "cell_type": "code",
      "metadata": {
        "colab": {
          "base_uri": "https://localhost:8080/"
        },
        "id": "cLdQ4uVjTWhr",
        "outputId": "67fe1ff4-d673-4aae-ae8c-5e1ec75e71ae"
      },
      "source": [
        "# Exploring the number of mutli-class categories we have\n",
        "print('--------------')\n",
        "print('Categories in PRODUCT column:')\n",
        "print('--------------\\n')\n",
        "print(df_product_and_complaint['PRODUCT'].unique(), '\\n')\n",
        "print('--------------')\n",
        "print('# of unique categories: ', df_product_and_complaint['PRODUCT'].nunique())\n",
        "print('--------------')"
      ],
      "execution_count": null,
      "outputs": [
        {
          "output_type": "stream",
          "name": "stdout",
          "text": [
            "--------------\n",
            "Categories in PRODUCT column:\n",
            "--------------\n",
            "\n",
            "['Vehicle loan or lease'\n",
            " 'Credit reporting, credit repair services, or other personal consumer reports'\n",
            " 'Credit card or prepaid card'\n",
            " 'Money transfer, virtual currency, or money service' 'Mortgage'\n",
            " 'Payday loan, title loan, or personal loan' 'Debt collection'\n",
            " 'Checking or savings account' 'Student loan' 'Consumer Loan'\n",
            " 'Money transfers' 'Credit card' 'Bank account or service'\n",
            " 'Credit reporting' 'Prepaid card' 'Payday loan' 'Other financial service'\n",
            " 'Virtual currency'] \n",
            "\n",
            "--------------\n",
            "# of unique categories:  18\n",
            "--------------\n"
          ]
        }
      ]
    },
    {
      "cell_type": "markdown",
      "metadata": {
        "id": "v1Kz-nzrUu-J"
      },
      "source": [
        "We see that some of the categories are repeated.\n",
        "'Credit card' vs 'Credit card or prepaid card'\n",
        "'Prepaid card' vs 'Credit card or prepaid card'\n",
        "'Credit reporting' vs 'Credit reporting, credit repair services, or other personal consumer reports'\n",
        "'Money transfers' vs 'Money transfer, virtual currency, or money service'\n",
        "'Payday loan' vs 'Payday loan, title loan, or personal loan'\n",
        "'Virtual currency' vs 'Money transfer, virtual currency, or money service' 'Money transfers'\n",
        "There seems to be some sort of overlap between the categories, and I have no freakin clue why it is put this way. So why don't we simplify our problem by combining these categories together?\n",
        "\n",
        "But of course - let us do some data visualizations"
      ]
    },
    {
      "cell_type": "markdown",
      "metadata": {
        "id": "59P7PA1FU-fE"
      },
      "source": [
        "**DATA VISUALIZATION**"
      ]
    },
    {
      "cell_type": "markdown",
      "metadata": {
        "id": "vhVYWmwQdP0p"
      },
      "source": [
        "**Data Visualization on Categories in PRODUCT**"
      ]
    },
    {
      "cell_type": "code",
      "metadata": {
        "colab": {
          "base_uri": "https://localhost:8080/",
          "height": 519
        },
        "id": "JJQuY90GTq0C",
        "outputId": "7535cf13-dd70-428d-a525-3ec30aa61ad5"
      },
      "source": [
        "fig, ax = plt.subplots(figsize=(10,8))\n",
        "\n",
        "ax = sns.countplot(y='PRODUCT', \n",
        "                   data=df_product_and_complaint, \n",
        "                   order=df_product_and_complaint['PRODUCT'].value_counts().index)\n",
        "\n",
        "ax.set_title('NUMBER OF COMPLAINTS IN EACH CATEGORY',size=15)\n",
        "\n",
        "# Setting labels\n",
        "# Dealing with y-labels\n",
        "ax.set_ylabel('COMPLAINT', rotation=0, size=14, labelpad=10)\n",
        "              \n",
        "# Dealing with x-labels\n",
        "ax.set_xlabel('NUMBER OF COMPLAINTS', size=14)\n",
        "\n",
        "sns.despine()\n",
        "            \n",
        "plt.savefig('freq_of_uncombined_class.png', transparency=True)"
      ],
      "execution_count": null,
      "outputs": [
        {
          "output_type": "display_data",
          "data": {
            "image/png": "[encoded data removed]",
            "text/plain": [
              "<Figure size 720x576 with 1 Axes>"
            ]
          },
          "metadata": {
            "needs_background": "light"
          }
        }
      ]
    },
    {
      "cell_type": "code",
      "metadata": {
        "colab": {
          "base_uri": "https://localhost:8080/"
        },
        "id": "2cOllYcZcwMB",
        "outputId": "8972caa5-875d-4691-eab5-03fd48ba77cd"
      },
      "source": [
        "print('Number of rows in Dataframe: ', len(df_product_and_complaint))"
      ],
      "execution_count": null,
      "outputs": [
        {
          "output_type": "stream",
          "name": "stdout",
          "text": [
            "Number of rows in Dataframe:  416410\n"
          ]
        }
      ]
    },
    {
      "cell_type": "markdown",
      "metadata": {
        "id": "zLrLogDndkV0"
      },
      "source": [
        "**DataFrame Reduction (else we won't even be able to do processing)**"
      ]
    },
    {
      "cell_type": "markdown",
      "metadata": {
        "id": "PUCVHhlNdo9X"
      },
      "source": [
        "**Category Dropping**"
      ]
    },
    {
      "cell_type": "code",
      "metadata": {
        "colab": {
          "base_uri": "https://localhost:8080/"
        },
        "id": "O42oMbXPdgUa",
        "outputId": "714aa437-8f2f-4e47-993d-6d47184dee01"
      },
      "source": [
        "# Pre-drop category value_counts\n",
        "df_product_and_complaint.PRODUCT.value_counts()"
      ],
      "execution_count": null,
      "outputs": [
        {
          "output_type": "execute_result",
          "data": {
            "text/plain": [
              "Credit reporting, credit repair services, or other personal consumer reports    208947\n",
              "Debt collection                                                                  70465\n",
              "Credit card or prepaid card                                                      39764\n",
              "Mortgage                                                                         33558\n",
              "Checking or savings account                                                      23645\n",
              "Money transfer, virtual currency, or money service                               11465\n",
              "Student loan                                                                      9920\n",
              "Vehicle loan or lease                                                             9215\n",
              "Payday loan, title loan, or personal loan                                         6147\n",
              "Credit reporting                                                                  1063\n",
              "Credit card                                                                        788\n",
              "Bank account or service                                                            596\n",
              "Consumer Loan                                                                      487\n",
              "Payday loan                                                                        144\n",
              "Money transfers                                                                    111\n",
              "Prepaid card                                                                        57\n",
              "Other financial service                                                             36\n",
              "Virtual currency                                                                     2\n",
              "Name: PRODUCT, dtype: int64"
            ]
          },
          "metadata": {},
          "execution_count": 17
        }
      ]
    },
    {
      "cell_type": "code",
      "metadata": {
        "id": "arIZ9FupdtHF"
      },
      "source": [
        "# Dropping rows with the aggregated columns\n",
        "df_product_and_complaint.drop(\n",
        "    df_product_and_complaint[\n",
        "    df_product_and_complaint.PRODUCT == \n",
        "    'Credit reporting, credit repair services, or other personal consumer reports'].index, \n",
        "    inplace=True) # credit_aggregated\n",
        "\n",
        "df_product_and_complaint.drop(\n",
        "    df_product_and_complaint[\n",
        "    df_product_and_complaint.PRODUCT == \n",
        "    'Credit card or prepaid card'].index, \n",
        "    inplace=True) # cred_or_prepaid\n",
        "\n",
        "df_product_and_complaint.drop(\n",
        "    df_product_and_complaint[\n",
        "    df_product_and_complaint.PRODUCT == \n",
        "    'Money transfer, virtual currency, or money service'].index, \n",
        "    inplace=True) # money_virtual_service\n",
        "\n",
        "df_product_and_complaint.drop(\n",
        "    df_product_and_complaint[\n",
        "    df_product_and_complaint.PRODUCT == \n",
        "    'Payday loan, title loan, or personal loan'].index, \n",
        "    inplace=True) # payday_title_personal_loan"
      ],
      "execution_count": null,
      "outputs": []
    },
    {
      "cell_type": "markdown",
      "metadata": {
        "id": "xYCRC64cd4CP"
      },
      "source": [
        "**Visualizing Leftover Categories (after dropping the ones stated above)**"
      ]
    },
    {
      "cell_type": "code",
      "metadata": {
        "colab": {
          "base_uri": "https://localhost:8080/",
          "height": 536
        },
        "id": "xkPXiI8Ddx1V",
        "outputId": "8c66d3e2-3635-464c-bb4d-8f7862b63e83"
      },
      "source": [
        "fig, ax = plt.subplots(figsize=(10,8))\n",
        "\n",
        "ax = sns.countplot(y='PRODUCT', \n",
        "                   data=df_product_and_complaint, \n",
        "                   order=df_product_and_complaint['PRODUCT'].value_counts().index)\n",
        "\n",
        "ax.set_title('NUMBER OF COMPLAINTS IN EACH CATEGORY',size=15)\n",
        "\n",
        "# Setting labels\n",
        "# Dealing with y-labels\n",
        "ax.set_ylabel('COMPLAINT', rotation=0, labelpad=40, size=14)\n",
        "              \n",
        "# Dealing with x-labels\n",
        "ax.set_xlabel('NUMBER OF COMPLAINTS', size=14)"
      ],
      "execution_count": null,
      "outputs": [
        {
          "output_type": "execute_result",
          "data": {
            "text/plain": [
              "Text(0.5, 0, 'NUMBER OF COMPLAINTS')"
            ]
          },
          "metadata": {},
          "execution_count": 19
        },
        {
          "output_type": "display_data",
          "data": {
            "image/png": "[encoded data removed]",
            "text/plain": [
              "<Figure size 720x576 with 1 Axes>"
            ]
          },
          "metadata": {
            "needs_background": "light"
          }
        }
      ]
    },
    {
      "cell_type": "code",
      "metadata": {
        "colab": {
          "base_uri": "https://localhost:8080/"
        },
        "id": "J3Vmhjqvd7TH",
        "outputId": "5d28d85e-b7e0-4e83-925d-3ac6d4b5e845"
      },
      "source": [
        "\n",
        "# Checking Length of df now\n",
        "df_product_and_complaint.info()\n",
        "\n",
        "# It's still quite a sizeable amount that my computer can't take. So we have to drop more.\n",
        "# We want to reduce it to less than 50k entries\n",
        "\n",
        "# LOL good job surface pro"
      ],
      "execution_count": null,
      "outputs": [
        {
          "output_type": "stream",
          "name": "stdout",
          "text": [
            "<class 'pandas.core.frame.DataFrame'>\n",
            "Int64Index: 150087 entries, 1 to 1048561\n",
            "Data columns (total 2 columns):\n",
            " #   Column              Non-Null Count   Dtype \n",
            "---  ------              --------------   ----- \n",
            " 0   PRODUCT             150087 non-null  object\n",
            " 1   CONSUMER_COMPLAINT  150087 non-null  object\n",
            "dtypes: object(2)\n",
            "memory usage: 8.4+ MB\n"
          ]
        }
      ]
    },
    {
      "cell_type": "code",
      "metadata": {
        "colab": {
          "base_uri": "https://localhost:8080/"
        },
        "id": "RUAWzqfVd-2O",
        "outputId": "eb99e983-3a5a-4db9-f48d-95f48f070316"
      },
      "source": [
        "df_product_and_complaint.PRODUCT.value_counts()"
      ],
      "execution_count": null,
      "outputs": [
        {
          "output_type": "execute_result",
          "data": {
            "text/plain": [
              "Debt collection                70465\n",
              "Mortgage                       33558\n",
              "Checking or savings account    23645\n",
              "Student loan                    9920\n",
              "Vehicle loan or lease           9215\n",
              "Credit reporting                1063\n",
              "Credit card                      788\n",
              "Bank account or service          596\n",
              "Consumer Loan                    487\n",
              "Payday loan                      144\n",
              "Money transfers                  111\n",
              "Prepaid card                      57\n",
              "Other financial service           36\n",
              "Virtual currency                   2\n",
              "Name: PRODUCT, dtype: int64"
            ]
          },
          "metadata": {},
          "execution_count": 21
        }
      ]
    },
    {
      "cell_type": "markdown",
      "metadata": {
        "id": "rW5yq9tVeHlP"
      },
      "source": [
        "**Combining Categories**"
      ]
    },
    {
      "cell_type": "code",
      "metadata": {
        "id": "5yL9iwhCeBp5"
      },
      "source": [
        "\n",
        "df_product_and_complaint.replace('Student loan', 'Loan', inplace=True)\n",
        "df_product_and_complaint.replace('Consumer Loan', 'Loan', inplace=True)\n",
        "df_product_and_complaint.replace('Payday loan', 'Loan', inplace=True)\n",
        "df_product_and_complaint.replace('Vehicle loan or lease', 'Loan', inplace=True)\n",
        "\n",
        "# Placing Virtual currency into other financial service\n",
        "df_product_and_complaint.replace('Virtual currency', 'Other financial service', inplace=True)"
      ],
      "execution_count": null,
      "outputs": []
    },
    {
      "cell_type": "markdown",
      "metadata": {
        "id": "I-KU1OsSeapO"
      },
      "source": [
        "**Leftover Categories Dataframe Reduction**"
      ]
    },
    {
      "cell_type": "code",
      "metadata": {
        "colab": {
          "base_uri": "https://localhost:8080/"
        },
        "id": "6eROGgBFeU9o",
        "outputId": "b5422a5a-774f-4ee4-fe6b-0818f2e70a79"
      },
      "source": [
        "df_product_and_complaint.PRODUCT.value_counts()"
      ],
      "execution_count": null,
      "outputs": [
        {
          "output_type": "execute_result",
          "data": {
            "text/plain": [
              "Debt collection                70465\n",
              "Mortgage                       33558\n",
              "Checking or savings account    23645\n",
              "Loan                           19766\n",
              "Credit reporting                1063\n",
              "Credit card                      788\n",
              "Bank account or service          596\n",
              "Money transfers                  111\n",
              "Prepaid card                      57\n",
              "Other financial service           38\n",
              "Name: PRODUCT, dtype: int64"
            ]
          },
          "metadata": {},
          "execution_count": 23
        }
      ]
    },
    {
      "cell_type": "markdown",
      "metadata": {
        "id": "BfA0pp-0eh1B"
      },
      "source": [
        "**df_product_and_complaint.info()  # 290k rows.**"
      ]
    },
    {
      "cell_type": "code",
      "metadata": {
        "colab": {
          "base_uri": "https://localhost:8080/"
        },
        "id": "ILm0J-ZSediw",
        "outputId": "056708ce-42df-4147-ab00-340188d4c5e5"
      },
      "source": [
        "df_product_and_complaint.info()  # 290k rows."
      ],
      "execution_count": null,
      "outputs": [
        {
          "output_type": "stream",
          "name": "stdout",
          "text": [
            "<class 'pandas.core.frame.DataFrame'>\n",
            "Int64Index: 150087 entries, 1 to 1048561\n",
            "Data columns (total 2 columns):\n",
            " #   Column              Non-Null Count   Dtype \n",
            "---  ------              --------------   ----- \n",
            " 0   PRODUCT             150087 non-null  object\n",
            " 1   CONSUMER_COMPLAINT  150087 non-null  object\n",
            "dtypes: object(2)\n",
            "memory usage: 8.4+ MB\n"
          ]
        }
      ]
    },
    {
      "cell_type": "code",
      "metadata": {
        "id": "B5ub5kkkek7l"
      },
      "source": [
        "# Reducing dataframe to 30k entries\n",
        "# Need to reduce all categories by 90%\n",
        "\n",
        "percentage_reduction = 0.9\n",
        "\n",
        "# Debt Collection Reduction\n",
        "df_product_and_complaint_reduced = \\\n",
        "df_product_and_complaint.drop(\n",
        "    df_product_and_complaint[df_product_and_complaint['PRODUCT'] == 'Debt collection'].sample(frac=percentage_reduction).index)\n",
        "\n",
        "# Mortgage Reduction\n",
        "df_product_and_complaint_reduced = \\\n",
        "df_product_and_complaint_reduced.drop(\n",
        "    df_product_and_complaint_reduced[\n",
        "        df_product_and_complaint_reduced['PRODUCT'] == 'Mortgage'].sample(frac=percentage_reduction).index)\n",
        "\n",
        "# Loan\n",
        "df_product_and_complaint_reduced = \\\n",
        "df_product_and_complaint_reduced.drop(\n",
        "    df_product_and_complaint_reduced[\n",
        "        df_product_and_complaint_reduced['PRODUCT'] == 'Loan'].sample(frac=percentage_reduction).index)\n",
        "\n",
        "# Credit reporting\n",
        "df_product_and_complaint_reduced = \\\n",
        "df_product_and_complaint_reduced.drop(\n",
        "    df_product_and_complaint_reduced[\n",
        "        df_product_and_complaint_reduced['PRODUCT'] == 'Credit reporting'].sample(frac=percentage_reduction).index)\n",
        "\n",
        "# Credit card\n",
        "df_product_and_complaint_reduced = \\\n",
        "df_product_and_complaint_reduced.drop(\n",
        "    df_product_and_complaint_reduced[\n",
        "        df_product_and_complaint_reduced['PRODUCT'] == 'Credit card'].sample(frac=percentage_reduction).index)\n",
        "\n",
        "# Checking or savings account\n",
        "df_product_and_complaint_reduced = \\\n",
        "df_product_and_complaint_reduced.drop(\n",
        "    df_product_and_complaint_reduced[\n",
        "        df_product_and_complaint_reduced['PRODUCT'] == 'Checking or savings account'].sample(frac=percentage_reduction).index)\n",
        "\n",
        "# Bank account or service\n",
        "df_product_and_complaint_reduced = \\\n",
        "df_product_and_complaint_reduced.drop(\n",
        "    df_product_and_complaint_reduced[\n",
        "        df_product_and_complaint_reduced['PRODUCT'] == 'Bank account or service'].sample(frac=percentage_reduction).index)\n",
        "\n",
        "# # Money transfers (too little to be reduced)\n",
        "# df_product_and_complaint_reduced = \\\n",
        "# df_product_and_complaint_reduced.drop(\n",
        "#     df_product_and_complaint_reduced[\n",
        "#         df_product_and_complaint_reduced['PRODUCT'] == 'Money transfers'].sample(frac=.9).index)\n",
        "\n",
        "# # Prepaid card (too little to be reduced)\n",
        "# df_product_and_complaint_reduced = \\\n",
        "# df_product_and_complaint_reduced.drop(\n",
        "#     df_product_and_complaint_reduced[\n",
        "#         df_product_and_complaint_reduced['PRODUCT'] == 'Prepaid card'].sample(frac=.9).index)\n",
        "\n",
        "# # Other financial service (too little to be reduced)\n",
        "# df_product_and_complaint_reduced = \\\n",
        "# df_product_and_complaint_reduced.drop(\n",
        "#     df_product_and_complaint_reduced[\n",
        "#         df_product_and_complaint_reduced['PRODUCT'] == 'Other financial service'].sample(frac=.9).index)"
      ],
      "execution_count": null,
      "outputs": []
    },
    {
      "cell_type": "code",
      "metadata": {
        "colab": {
          "base_uri": "https://localhost:8080/"
        },
        "id": "ITf8Q8hseucF",
        "outputId": "2e0723b3-f857-4d17-da8f-f8bf01b8d8ad"
      },
      "source": [
        "df_product_and_complaint_reduced.PRODUCT.value_counts()"
      ],
      "execution_count": null,
      "outputs": [
        {
          "output_type": "execute_result",
          "data": {
            "text/plain": [
              "Debt collection                7047\n",
              "Mortgage                       3356\n",
              "Checking or savings account    2365\n",
              "Loan                           1977\n",
              "Money transfers                 111\n",
              "Credit reporting                106\n",
              "Credit card                      79\n",
              "Bank account or service          60\n",
              "Prepaid card                     57\n",
              "Other financial service          38\n",
              "Name: PRODUCT, dtype: int64"
            ]
          },
          "metadata": {},
          "execution_count": 26
        }
      ]
    },
    {
      "cell_type": "code",
      "metadata": {
        "colab": {
          "base_uri": "https://localhost:8080/"
        },
        "id": "IWKZcOO1exvs",
        "outputId": "c77cbcf1-cd79-4e4b-e9ae-af356c02803d"
      },
      "source": [
        "df_product_and_complaint_reduced.info()"
      ],
      "execution_count": null,
      "outputs": [
        {
          "output_type": "stream",
          "name": "stdout",
          "text": [
            "<class 'pandas.core.frame.DataFrame'>\n",
            "Int64Index: 15196 entries, 73 to 1048486\n",
            "Data columns (total 2 columns):\n",
            " #   Column              Non-Null Count  Dtype \n",
            "---  ------              --------------  ----- \n",
            " 0   PRODUCT             15196 non-null  object\n",
            " 1   CONSUMER_COMPLAINT  15196 non-null  object\n",
            "dtypes: object(2)\n",
            "memory usage: 356.2+ KB\n"
          ]
        }
      ]
    },
    {
      "cell_type": "code",
      "metadata": {
        "colab": {
          "base_uri": "https://localhost:8080/"
        },
        "id": "1WEbM2zie0G4",
        "outputId": "dba40157-b61b-4e85-d17f-ba3ec23b82eb"
      },
      "source": [
        "# Exploring the new number of mutli-class categories we have\n",
        "print('--------------')\n",
        "print('Categories in PRODUCT column:')\n",
        "print('--------------\\n')\n",
        "print(df_product_and_complaint_reduced['PRODUCT'].unique(), '\\n')\n",
        "print('--------------')\n",
        "print('# of unique categories: ', df_product_and_complaint_reduced['PRODUCT'].nunique())\n",
        "print('--------------')\n",
        "\n",
        "# Great! Now we are down to 10 classes."
      ],
      "execution_count": null,
      "outputs": [
        {
          "output_type": "stream",
          "name": "stdout",
          "text": [
            "--------------\n",
            "Categories in PRODUCT column:\n",
            "--------------\n",
            "\n",
            "['Debt collection' 'Loan' 'Checking or savings account' 'Mortgage'\n",
            " 'Money transfers' 'Credit reporting' 'Prepaid card'\n",
            " 'Other financial service' 'Credit card' 'Bank account or service'] \n",
            "\n",
            "--------------\n",
            "# of unique categories:  10\n",
            "--------------\n"
          ]
        }
      ]
    },
    {
      "cell_type": "markdown",
      "metadata": {
        "id": "AyXraK62e6VE"
      },
      "source": [
        "**Data Visualizing on newly combined classes**"
      ]
    },
    {
      "cell_type": "code",
      "metadata": {
        "colab": {
          "base_uri": "https://localhost:8080/",
          "height": 519
        },
        "id": "dfh7qR8Le3SY",
        "outputId": "fdb70469-7665-4067-c9b4-1be1f5d542e8"
      },
      "source": [
        "fig, ax = plt.subplots(figsize=(10,8))\n",
        "\n",
        "ax = sns.countplot(y='PRODUCT', \n",
        "                   data=df_product_and_complaint_reduced, \n",
        "                   order=df_product_and_complaint_reduced['PRODUCT'].value_counts().index,\n",
        "                   palette='rocket'        # change the color of this graph LATER\n",
        "                  )\n",
        "\n",
        "ax.set_title('NUMBER OF COMPLAINTS IN EACH CATEGORY',size=15)\n",
        "\n",
        "# Setting labels\n",
        "# Dealing with y-labels\n",
        "ax.set_ylabel('COMPLAINT', rotation=0, labelpad=40, size=14)\n",
        "              \n",
        "# Dealing with x-labels\n",
        "ax.set_xlabel('NUMBER OF COMPLAINTS', size=14)\n",
        "\n",
        "sns.despine()\n",
        "plt.savefig('freq_of_removed_classes_and_reduced_observations.png', transparency=True)"
      ],
      "execution_count": null,
      "outputs": [
        {
          "output_type": "display_data",
          "data": {
            "image/png": "[encoded data removed]",
            "text/plain": [
              "<Figure size 720x576 with 1 Axes>"
            ]
          },
          "metadata": {
            "needs_background": "light"
          }
        }
      ]
    },
    {
      "cell_type": "markdown",
      "metadata": {
        "id": "DnQJMRqdfBBm"
      },
      "source": [
        "**Label Encoding Categories**"
      ]
    },
    {
      "cell_type": "code",
      "metadata": {
        "colab": {
          "base_uri": "https://localhost:8080/",
          "height": 363
        },
        "id": "h8TCiAzWe9Sp",
        "outputId": "d2a346b7-a6f7-46f2-ad7f-d25ea29ccf96"
      },
      "source": [
        "# Applying encoding to the PRODUCT column\n",
        "df_product_and_complaint_reduced['PRODUCT_ID'] = df_product_and_complaint_reduced['PRODUCT'].factorize()[0] \n",
        "\n",
        "#.factorize[0] arranges the index of each encoded number accordingly to the \n",
        "# index of your categorical variables in the PRODUCT column\n",
        "\n",
        "\n",
        "# Creates a dataframe of the PRODUCT to their respective PRODUCT_ID\n",
        "category_id_df = df_product_and_complaint_reduced[['PRODUCT', 'PRODUCT_ID']].drop_duplicates()\n",
        "\n",
        "\n",
        "# Dictionaries for future use. Creating our cheatsheets for what each encoded label represents.\n",
        "category_to_id = dict(category_id_df.values) # Creates a PRODUCT: PRODUCT_ID key-value pair\n",
        "id_to_category = dict(category_id_df[['PRODUCT_ID', 'PRODUCT']].values)  # Creates a PRODUCT_ID: PRODUCT key-value pair\n",
        "\n",
        "# New dataframe\n",
        "df_product_and_complaint_reduced.head(10)"
      ],
      "execution_count": null,
      "outputs": [
        {
          "output_type": "execute_result",
          "data": {
            "text/html": [
              "<div>\n",
              "<style scoped>\n",
              "    .dataframe tbody tr th:only-of-type {\n",
              "        vertical-align: middle;\n",
              "    }\n",
              "\n",
              "    .dataframe tbody tr th {\n",
              "        vertical-align: top;\n",
              "    }\n",
              "\n",
              "    .dataframe thead th {\n",
              "        text-align: right;\n",
              "    }\n",
              "</style>\n",
              "<table border=\"1\" class=\"dataframe\">\n",
              "  <thead>\n",
              "    <tr style=\"text-align: right;\">\n",
              "      <th></th>\n",
              "      <th>PRODUCT</th>\n",
              "      <th>CONSUMER_COMPLAINT</th>\n",
              "      <th>PRODUCT_ID</th>\n",
              "    </tr>\n",
              "  </thead>\n",
              "  <tbody>\n",
              "    <tr>\n",
              "      <th>73</th>\n",
              "      <td>Debt collection</td>\n",
              "      <td>In XXXX, I started receiving mail and phone ca...</td>\n",
              "      <td>0</td>\n",
              "    </tr>\n",
              "    <tr>\n",
              "      <th>145</th>\n",
              "      <td>Debt collection</td>\n",
              "      <td>I was a curent Section8 government program att...</td>\n",
              "      <td>0</td>\n",
              "    </tr>\n",
              "    <tr>\n",
              "      <th>214</th>\n",
              "      <td>Loan</td>\n",
              "      <td>I attended XXXX XXXX University from the fall ...</td>\n",
              "      <td>1</td>\n",
              "    </tr>\n",
              "    <tr>\n",
              "      <th>356</th>\n",
              "      <td>Checking or savings account</td>\n",
              "      <td>Account shut down due to \" XXXX '' the CSR 's ...</td>\n",
              "      <td>2</td>\n",
              "    </tr>\n",
              "    <tr>\n",
              "      <th>376</th>\n",
              "      <td>Checking or savings account</td>\n",
              "      <td>Upon learning of a fraudulent account opened u...</td>\n",
              "      <td>2</td>\n",
              "    </tr>\n",
              "    <tr>\n",
              "      <th>378</th>\n",
              "      <td>Debt collection</td>\n",
              "      <td>Premium Asset Services LLC has violated multip...</td>\n",
              "      <td>0</td>\n",
              "    </tr>\n",
              "    <tr>\n",
              "      <th>380</th>\n",
              "      <td>Debt collection</td>\n",
              "      <td>At XXXX hours on XXXX XX/XX/2019, I called Cre...</td>\n",
              "      <td>0</td>\n",
              "    </tr>\n",
              "    <tr>\n",
              "      <th>392</th>\n",
              "      <td>Debt collection</td>\n",
              "      <td>XXXX XXXX XXXX XXXX XXXX XXXX XXXX, GA XXXX CR...</td>\n",
              "      <td>0</td>\n",
              "    </tr>\n",
              "    <tr>\n",
              "      <th>446</th>\n",
              "      <td>Loan</td>\n",
              "      <td>I have been harassed via phone by XXXX XXXX wi...</td>\n",
              "      <td>1</td>\n",
              "    </tr>\n",
              "    <tr>\n",
              "      <th>524</th>\n",
              "      <td>Debt collection</td>\n",
              "      <td>What Is this complain about? \\n\\nPre-XXXX  Suc...</td>\n",
              "      <td>0</td>\n",
              "    </tr>\n",
              "  </tbody>\n",
              "</table>\n",
              "</div>"
            ],
            "text/plain": [
              "                         PRODUCT  ... PRODUCT_ID\n",
              "73               Debt collection  ...          0\n",
              "145              Debt collection  ...          0\n",
              "214                         Loan  ...          1\n",
              "356  Checking or savings account  ...          2\n",
              "376  Checking or savings account  ...          2\n",
              "378              Debt collection  ...          0\n",
              "380              Debt collection  ...          0\n",
              "392              Debt collection  ...          0\n",
              "446                         Loan  ...          1\n",
              "524              Debt collection  ...          0\n",
              "\n",
              "[10 rows x 3 columns]"
            ]
          },
          "metadata": {},
          "execution_count": 30
        }
      ]
    },
    {
      "cell_type": "code",
      "metadata": {
        "colab": {
          "base_uri": "https://localhost:8080/"
        },
        "id": "VXV7237ifD0Y",
        "outputId": "0a2821d3-3557-4fd3-faca-cf5b9cab45e8"
      },
      "source": [
        "# We still get the same length as per the original df.\n",
        "len(df_product_and_complaint_reduced)"
      ],
      "execution_count": null,
      "outputs": [
        {
          "output_type": "execute_result",
          "data": {
            "text/plain": [
              "15196"
            ]
          },
          "metadata": {},
          "execution_count": 31
        }
      ]
    },
    {
      "cell_type": "code",
      "metadata": {
        "colab": {
          "base_uri": "https://localhost:8080/"
        },
        "id": "FcQR9VPvfHMB",
        "outputId": "f2a2c550-f912-4cbf-d75c-c9bdbbbbcffc"
      },
      "source": [
        "# Reviewing our Loaded Dataframe\n",
        "print(df_product_and_complaint_reduced.info())\n",
        "print('--------------------------------------------------------------------------------------')\n",
        "print(df_product_and_complaint_reduced.head().to_string())"
      ],
      "execution_count": null,
      "outputs": [
        {
          "output_type": "stream",
          "name": "stdout",
          "text": [
            "<class 'pandas.core.frame.DataFrame'>\n",
            "Int64Index: 15196 entries, 73 to 1048486\n",
            "Data columns (total 3 columns):\n",
            " #   Column              Non-Null Count  Dtype \n",
            "---  ------              --------------  ----- \n",
            " 0   PRODUCT             15196 non-null  object\n",
            " 1   CONSUMER_COMPLAINT  15196 non-null  object\n",
            " 2   PRODUCT_ID          15196 non-null  int64 \n",
            "dtypes: int64(1), object(2)\n",
            "memory usage: 1.1+ MB\n",
            "None\n",
            "--------------------------------------------------------------------------------------\n",
            "                         PRODUCT                                                                                                                                                                                                                                                                                                                                                                                                                                                                                                                                                                                                                                                                                                                                                                                                                                                                                                                                                                                                                                                                                                                                                                                                                                                                                                                                                                                                                                                                                                                                                                                                                                                                                                                                                                                                                                                                                                                                                                                                                                                                                                                                                                                                                                                                                                                                                                                                                      CONSUMER_COMPLAINT  PRODUCT_ID\n",
            "73               Debt collection                                                                                                                                                    In XXXX, I started receiving mail and phone calls from LVNV Funding about a debt from XXXX XXXX for {$1000.00}. I disputed this information several times in writing telling them I dont owe this debt and to send me verification or delete this information off my credit report. LVNV keep sending me a bill as valid reason for them to report this fraudulent information on my credit report. In XXXX I starting receiving more calls and mail about this debt, this time it was Resurgent Capital Services, telling me I need to pay them because it was in pre legal status and I am getting sued. They called several times a day, interrupting me while I was at work. I disputed with them as well but received mail correspondence from LVNV with yet another bill as verification. In XX/XX/XXXX, I started to receive mail and calls from now XXXX XXXX XXXX about this same debt. I have been getting harnessed by LVNV and its related companies for months about a debt that isnt mine. LVNV couldnt provide me with a contract with a signature like I requested so I am being attacked by 3 different companies about the same debt that is hurting my credit file and coasting me additional money. On XX/XX/XXXX, I decide to call Resurgent and resolve this debt because of the damage it is doing to my credit. I explained to the representative that this wasnt my debt however I wish to resolve it. I asked about a settlement and they offered 20 %, I said that was too much. The representative pulled my credit without my permission and told me I could afford it and quoted every credit card as well as my children names off my credit report. She told me my credit lines and who I was an authorized user on what card and everything. I dont feel its fair that LVNV Funding is allowed to report fraudulent unverified information on my credit file. I dont feel that LVNV Funding should be allowed to harass me through all of their different companies for the same debt. I dont feel as the representative had a right to access my credit file without my permission and tell me that I can afford to pay a debt that I told her I wasnt capable of paying in full. I was treated very badly and I feel my privacy has been invaded.           0\n",
            "145              Debt collection                                                                                                                                                                                                                                                                                                                                                                                                                                                                                                                                                                                                                                                                                                                                                                                                                                                                                     I was a curent Section8 government program attend and in XX/XX/XXXX i  found a house for rent that accepted housing vouchers to provide a safe place for me and XXXX children payed on time as well as deposit, through out the whole time of lease with XXXX they failed to provide safe housing so after 2 years of heating issue, mold which i have XXXX   children my housing manager found the house unsafe and home went into abatement and i had to move the lease was terminated due to their part of not providing safe housing while on the program, they have threatened to sue me as well as garnish my wages, they have reported on my credit redeckless amounts that werent owed as well as a company that i never rented from ..My lease was with XXXX  and its reporting XXXX XXXX which i have neved leased with i have all proof and left owing nothing when the home went into abatement due to the repairs of the home I had to move because they have failed to provide safe housing which they knew before a accpeting a section 8 particpant rent paid by the goverment. I didnt recieve my deposit back and they are reporting i owe them which cant be true i have all recipets, documents and even the letter of abatement giving them 30 days to fix repairs and they failed they have just put my family through XXXX and now lying saying i rented from another company. Please help as im trying to but a home now off the Goverment program i had to relocate my kids which XXXX where XXXX right around XX/XX/XXXX.           0\n",
            "214                         Loan  I attended XXXX XXXX University from the fall of XXXX to the spring of XXXX and graduated with a BS in XXXX XXXX. After graduation I accepted an industry position and began my new career in XXXX of XXXX. After an automatic deferment of six months on my loan repayment I entered an income-based repayment ( IBR ) plan that allowed me to make payments while supporting my wife and twin sons, all without incident. When it was time to renew my XXXX in XXXX I followed the same process but my payment status was left unresolved for several months despite regular attempts to contact the company to resolve the matter. By XX/XX/XXXX I was receiving notices that Navient required payment but would not accept my XXXX application with no explanation as to why there was an issue. By approximately XXXX of XXXX my IBR was approved and I began payments again, but Navient had placed XXXX day late payment marks on my credit report during the time that my payment plan was in process. I worked with the credit reporting agency and Navient to resolve the issue, and eventually Navient agreed that my lack of payment was due to process errors on their end, but for some reason they have only removed the marks for the 30 and 60 day late payments on my XXXX report. Please see the attached document showing a 90 day late payment in XX/XX/XXXX but ( document titled 'XXXX Navient Payment, ' red highlight from me ) but no payment issues on XXXX and XX/XX/XXXX. I have been unable to retrieve documents from either XXXX or Navient showing the previous status, but credit reports don't generally show a random 90 day late payment mark in an otherwise satisfactory payment history. I have contested the 90 day late payment several times with both XXXX and Navient, while the XXXX staff have been friendly they appear to be unable to do anything more than contact Navient as part of the dispute and receive a form letter that says that late payments have to be noted on credit reports. Please see the attached document labeled 'Navient Form Letter ' for the last of these letters I received from Navient while disputing on my credit report. That is literally all of the contact I have been able to document from their organization. At this point I can't even log into their system to find historical documents and can't receive customer assistance in any form.           1\n",
            "356  Checking or savings account                                                                                                                                                                                                                                                                                                                                                                                                                                                                                                                                                                                                                                                                                                                                                                                                                                                                                                                                                                                                                                                                                                                                                                                                                                                                                                                                                                                                                      Account shut down due to \" XXXX '' the CSR 's could not elaborate. I'm looking for answers. Where's my XXXX dollar account opening bonus, what was the XXXX reasoning ( too many new accounts, negative comment ) and lastly what will you be placing on my XXXX XXXX for closing reason. I am following up with the CFPB. The manager XXXX in the XXXX branch was the one that terminated my account, but she couldn't elaborate. She gave me the runaround and told me to contact the XXXX number in which they told me to contact the branch manager ( XXXX ). My account had been open for 4 months and I completed the bonus requirements before the date of XX/XX/XXXX when they needed to be completed by. Was locked out of my account last week, and have a letter saying it'll be \" fully shutdown '' buy theXX/XX/XXXX. \\n\\nI called in today the XX/XX/XXXX This can be linked to the other CFPB dispute I sent the other day. I received new information ( letter and correspondence with a manager )           2\n",
            "376  Checking or savings account                                                                                                                                                                                                                                                                                                                                                                                                                                                                                                                                                                                                                                                                                                                                                                                                                                                                                                                                                                                                                                                                                                                                                                                                                                                                                                                                                                                                                                                                                                                                                                                                                                                                                                                                                                                                                                                                                                                         Upon learning of a fraudulent account opened under my name, I contacted Wells Fargo multiple times. In person at a branch and over the phone and Wells Fargo continues to allow fraudulent activity! \\nI have filed paperwork with Wells Fargo I have filed paperwork with credit bureaus and police departments. \\n\\nThere is an internal worker of Wells Fargo that is assisting with the fraud under my name. Not only have they continued to contact me but my information in system has been changed also!           2\n"
          ]
        }
      ]
    },
    {
      "cell_type": "markdown",
      "metadata": {
        "id": "siALRKyRfRQE"
      },
      "source": [
        "**Text Pre-Processing**"
      ]
    },
    {
      "cell_type": "code",
      "metadata": {
        "colab": {
          "base_uri": "https://localhost:8080/"
        },
        "id": "sC-Izpg4fKuh",
        "outputId": "49612012-0b18-4a86-d03f-79126dd3bc5e"
      },
      "source": [
        "# Looking at a sample text\n",
        "sample_complaint = list(df_product_and_complaint_reduced.CONSUMER_COMPLAINT[:5])[4]\n",
        "\n",
        "# Converting to a list for TfidfVectorizer to use\n",
        "list_sample_complaint = []\n",
        "list_sample_complaint.append(sample_complaint)\n",
        "list_sample_complaint"
      ],
      "execution_count": null,
      "outputs": [
        {
          "output_type": "execute_result",
          "data": {
            "text/plain": [
              "['Upon learning of a fraudulent account opened under my name, I contacted Wells Fargo multiple times. In person at a branch and over the phone and Wells Fargo continues to allow fraudulent activity! \\nI have filed paperwork with Wells Fargo I have filed paperwork with credit bureaus and police departments. \\n\\nThere is an internal worker of Wells Fargo that is assisting with the fraud under my name. Not only have they continued to contact me but my information in system has been changed also!']"
            ]
          },
          "metadata": {},
          "execution_count": 33
        }
      ]
    },
    {
      "cell_type": "code",
      "metadata": {
        "colab": {
          "base_uri": "https://localhost:8080/"
        },
        "id": "SRX9pqHkfT0z",
        "outputId": "2c9d5849-dda3-42f3-a0e0-3b58c32cbe18"
      },
      "source": [
        "\n",
        "# Observing what words are extracted from a TfidfVectorizer\n",
        "from sklearn.feature_extraction.text import TfidfVectorizer\n",
        "\n",
        "tf_idf3 = TfidfVectorizer(stop_words='english')\n",
        "check3 = tf_idf3.fit_transform(list_sample_complaint)\n",
        "\n",
        "print(tf_idf3.get_feature_names())"
      ],
      "execution_count": null,
      "outputs": [
        {
          "output_type": "stream",
          "name": "stdout",
          "text": [
            "['account', 'activity', 'allow', 'assisting', 'branch', 'bureaus', 'changed', 'contact', 'contacted', 'continued', 'continues', 'credit', 'departments', 'fargo', 'filed', 'fraud', 'fraudulent', 'information', 'internal', 'learning', 'multiple', 'opened', 'paperwork', 'person', 'phone', 'police', 'times', 'wells', 'worker']\n"
          ]
        },
        {
          "output_type": "stream",
          "name": "stderr",
          "text": [
            "/usr/local/lib/python3.7/dist-packages/sklearn/utils/deprecation.py:87: FutureWarning: Function get_feature_names is deprecated; get_feature_names is deprecated in 1.0 and will be removed in 1.2. Please use get_feature_names_out instead.\n",
            "  warnings.warn(msg, category=FutureWarning)\n"
          ]
        }
      ]
    },
    {
      "cell_type": "markdown",
      "metadata": {
        "id": "KUKtDdvSfZ1J"
      },
      "source": [
        "**Model/Classifier Selection**"
      ]
    },
    {
      "cell_type": "code",
      "metadata": {
        "colab": {
          "base_uri": "https://localhost:8080/"
        },
        "id": "WjtqD5-cfV8z",
        "outputId": "1be0f92f-6537-4890-dace-59b264a17c89"
      },
      "source": [
        "\n",
        "# Split the data into X and y data sets\n",
        "X, y = df_product_and_complaint_reduced.CONSUMER_COMPLAINT, df_product_and_complaint_reduced.PRODUCT_ID\n",
        "print('X shape:', X.shape, 'y shape:', y.shape)"
      ],
      "execution_count": null,
      "outputs": [
        {
          "output_type": "stream",
          "name": "stdout",
          "text": [
            "X shape: (15196,) y shape: (15196,)\n"
          ]
        }
      ]
    },
    {
      "cell_type": "code",
      "metadata": {
        "colab": {
          "base_uri": "https://localhost:8080/"
        },
        "id": "KGVLch3Zflf0",
        "outputId": "2473ed2e-e924-4623-f34a-ad06529bef19"
      },
      "source": [
        "\n",
        "# Split the data into X and y data sets\n",
        "X, y = df_product_and_complaint_reduced.CONSUMER_COMPLAINT, df_product_and_complaint_reduced.PRODUCT_ID\n",
        "print('X shape:', X.shape, 'y shape:', y.shape)\n",
        "\n",
        "# For text classification, ALWAYS split data first before vectorizing.\n",
        "# This is because you don't want to cheat by having features (words) from the test data already being inside your train data\n",
        "from sklearn.model_selection import train_test_split\n",
        "\n",
        "X_train_val, X_test, y_train_val, y_test = train_test_split(X, y, \n",
        "                                                            test_size=0.2,   # 80% train/cv, 20% test\n",
        "                                                            stratify=y,\n",
        "                                                            random_state=seed)\n",
        "print('X_train', X_train_val.shape)\n",
        "print('y_train', y_train_val.shape)\n",
        "print('X_test', X_test.shape)\n",
        "print('y_test', y_test.shape)"
      ],
      "execution_count": null,
      "outputs": [
        {
          "output_type": "stream",
          "name": "stdout",
          "text": [
            "X shape: (15196,) y shape: (15196,)\n",
            "X_train (12156,)\n",
            "y_train (12156,)\n",
            "X_test (3040,)\n",
            "y_test (3040,)\n"
          ]
        }
      ]
    },
    {
      "cell_type": "code",
      "metadata": {
        "id": "HXERRQElfnwF"
      },
      "source": [
        "# Performing Text Pre-Processing\n",
        "\n",
        "# Import tfidfVectorizer\n",
        "from sklearn.feature_extraction.text import TfidfVectorizer\n",
        "\n",
        "# Text Preprocessing\n",
        "# The text needs to be transformed to vectors so as the algorithms will be able make predictions. \n",
        "# In this case it will be used the Term Frequency – Inverse Document Frequency (TFIDF) weight \n",
        "# to evaluate how important A WORD is to A DOCUMENT in a COLLECTION OF DOCUMENTS.\n",
        "\n",
        "# tfidf1 = 1-gram only. \n",
        "tfidf1 = TfidfVectorizer(sublinear_tf=True, # set to true to scale the term frequency in logarithmic scale.\n",
        "                        min_df=5,\n",
        "                        stop_words='english')\n",
        "\n",
        "X_train_val_tfidf1 = tfidf1.fit_transform(X_train_val).toarray()\n",
        "X_test_tfidf1 = tfidf1.transform(X_test)\n",
        "\n",
        "# tfidf2 = unigram and bigram\n",
        "tfidf2 = TfidfVectorizer(sublinear_tf=True, # set to true to scale the term frequency in logarithmic scale.\n",
        "                        min_df=5, \n",
        "                        ngram_range=(1,2), # we consider unigrams and bigrams\n",
        "                        stop_words='english')\n",
        "X_train_val_tfidf2 = tfidf2.fit_transform(X_train_val).toarray()\n",
        "X_test_tfidf2 = tfidf2.transform(X_test)\n",
        "\n",
        "\n",
        "# # StratifiedKFold -> Split 5\n",
        "# ## We now want to do stratified kfold to preserve the proportion of the category imbalances \n",
        "# # (number is split evenly from all the classes)\n",
        "\n",
        "# kf = StratifiedKFold(n_splits=5, shuffle=True, random_state=seed)"
      ],
      "execution_count": null,
      "outputs": []
    },
    {
      "cell_type": "code",
      "metadata": {
        "colab": {
          "base_uri": "https://localhost:8080/"
        },
        "id": "aif9bLKTfrxi",
        "outputId": "6610da5c-3121-4c7e-edd3-ee2a380817cd"
      },
      "source": [
        "X_train_val_tfidf1"
      ],
      "execution_count": null,
      "outputs": [
        {
          "output_type": "execute_result",
          "data": {
            "text/plain": [
              "array([[0.        , 0.        , 0.        , ..., 0.        , 0.        ,\n",
              "        0.        ],\n",
              "       [0.04492214, 0.        , 0.        , ..., 0.        , 0.        ,\n",
              "        0.        ],\n",
              "       [0.        , 0.        , 0.        , ..., 0.        , 0.        ,\n",
              "        0.        ],\n",
              "       ...,\n",
              "       [0.07670768, 0.        , 0.        , ..., 0.        , 0.        ,\n",
              "        0.        ],\n",
              "       [0.        , 0.        , 0.        , ..., 0.        , 0.        ,\n",
              "        0.        ],\n",
              "       [0.06792117, 0.        , 0.        , ..., 0.        , 0.        ,\n",
              "        0.        ]])"
            ]
          },
          "metadata": {},
          "execution_count": 38
        }
      ]
    },
    {
      "cell_type": "code",
      "metadata": {
        "colab": {
          "base_uri": "https://localhost:8080/"
        },
        "id": "nX_LHBwDAGti",
        "outputId": "f4177a49-467f-46f3-a596-32d9cf9edad6"
      },
      "source": [
        "X_train_val_tfidf2"
      ],
      "execution_count": null,
      "outputs": [
        {
          "output_type": "execute_result",
          "data": {
            "text/plain": [
              "array([[0.        , 0.        , 0.        , ..., 0.        , 0.        ,\n",
              "        0.        ],\n",
              "       [0.02812066, 0.        , 0.        , ..., 0.        , 0.        ,\n",
              "        0.        ],\n",
              "       [0.        , 0.        , 0.        , ..., 0.        , 0.        ,\n",
              "        0.        ],\n",
              "       ...,\n",
              "       [0.05799055, 0.        , 0.        , ..., 0.        , 0.        ,\n",
              "        0.        ],\n",
              "       [0.        , 0.        , 0.        , ..., 0.        , 0.        ,\n",
              "        0.        ],\n",
              "       [0.04401645, 0.        , 0.        , ..., 0.        , 0.        ,\n",
              "        0.        ]])"
            ]
          },
          "metadata": {},
          "execution_count": 39
        }
      ]
    },
    {
      "cell_type": "code",
      "metadata": {
        "id": "um5Tk1xzBb3b",
        "colab": {
          "base_uri": "https://localhost:8080/"
        },
        "outputId": "7d893fd9-4044-482b-bce0-896cb3179844"
      },
      "source": [
        "print('1-gram number of (rows, features):', X_train_val_tfidf1.shape)  "
      ],
      "execution_count": null,
      "outputs": [
        {
          "output_type": "stream",
          "name": "stdout",
          "text": [
            "1-gram number of (rows, features): (12156, 7615)\n"
          ]
        }
      ]
    },
    {
      "cell_type": "code",
      "metadata": {
        "id": "fWMvIpD6vEQ_"
      },
      "source": [
        "def metric_cv_stratified(model, X_train_val, y_train_val, n_splits, name):\n",
        "    \"\"\"\n",
        "    Accepts a Model Object, converted X_train_val and y_train_val, n_splits, name\n",
        "    and returns a dataframe with various cross-validated metric scores \n",
        "    over a stratified n_splits kfold for a multi-class classifier.\n",
        "    \"\"\"\n",
        "    # Start timer\n",
        "    import timeit\n",
        "    start = timeit.default_timer()\n",
        "    \n",
        "    ### Computations below\n",
        "    \n",
        "    # StratifiedKFold\n",
        "    ## We now want to do stratified kfold to preserve the proportion of the category imbalances \n",
        "    # (number is split evenly from all the classes)\n",
        "    from sklearn.model_selection import StratifiedKFold  # incase user forgest to import\n",
        "    kf = StratifiedKFold(n_splits=n_splits, shuffle=True, random_state=seed)\n",
        "    \n",
        "    # Initializing Metrics\n",
        "    accuracy = 0.0\n",
        "    micro_f1 = 0.0\n",
        "    macro_precision = 0.0\n",
        "    macro_recall = 0.0\n",
        "    macro_f1 = 0.0\n",
        "    weighted_precision = 0.0\n",
        "    weighted_recall = 0.0\n",
        "    weighted_f1 = 0.0\n",
        "#     roc_auc = 0.0    Not considering this score in this case\n",
        "        \n",
        "    # Storing metrics\n",
        "    from sklearn.model_selection import cross_val_score  # incase user forgets to import\n",
        "    accuracy = np.mean(cross_val_score(model, X_train_val, y_train_val, cv=kf, scoring='accuracy'))\n",
        "#     micro_f1 = np.mean(cross_val_score(model, X_train_val, y_train_val, cv=kf, scoring='f1_micro'))\n",
        "    macro_precision = np.mean(cross_val_score(model, X_train_val, y_train_val, cv=kf, scoring='precision_macro'))\n",
        "    macro_recall = np.mean(cross_val_score(model, X_train_val, y_train_val, cv=kf, scoring='recall_macro'))\n",
        "    macro_f1 = np.mean(cross_val_score(model, X_train_val, y_train_val, cv=kf, scoring='f1_macro'))\n",
        "    weighted_precision = np.mean(cross_val_score(model, X_train_val, y_train_val, cv=kf, scoring='precision_weighted'))\n",
        "    weighted_recall = np.mean(cross_val_score(model, X_train_val, y_train_val, cv=kf, scoring='recall_weighted'))\n",
        "    weighted_f1 = np.mean(cross_val_score(model, X_train_val, y_train_val, cv=kf, scoring='f1_weighted'))\n",
        "    \n",
        "    # Stop timer\n",
        "    stop = timeit.default_timer()\n",
        "    elapsed_time = stop - start\n",
        "    \n",
        "    return pd.DataFrame({'Model'    : [name],\n",
        "                         'Accuracy' : [accuracy],\n",
        "#                          'Micro F1' : [micro_f1],\n",
        "                         'Macro Precision': [macro_precision],\n",
        "                         'Macro Recall'   : [macro_recall],\n",
        "                         'Macro F1score'  : [macro_f1],\n",
        "                         'Weighted Precision': [weighted_precision],\n",
        "                         'Weighted Recall'   : [weighted_recall],\n",
        "                         'Weighted F1'  : [weighted_f1],\n",
        "                         'Time taken': [elapsed_time]  # timetaken: to be used for comparison later\n",
        "                        })\n"
      ],
      "execution_count": null,
      "outputs": []
    },
    {
      "cell_type": "code",
      "metadata": {
        "id": "qalz3Ot8vLDX"
      },
      "source": [
        "mnb = MultinomialNB()"
      ],
      "execution_count": null,
      "outputs": []
    },
    {
      "cell_type": "code",
      "metadata": {
        "colab": {
          "base_uri": "https://localhost:8080/"
        },
        "id": "UOQvx0LPvPpN",
        "outputId": "e98f3bbe-839b-4899-eea2-4cc36d7be048"
      },
      "source": [
        "\n",
        "mnb = MultinomialNB()\n",
        "results_cv_stratified_1gram = metric_cv_stratified(mnb, X_train_val_tfidf1, y_train_val, 5, 'MultinomialNB1')\n",
        "results_cv_stratified_2gram = metric_cv_stratified(mnb, X_train_val_tfidf2, y_train_val, 5, 'MultinomialNB2')"
      ],
      "execution_count": null,
      "outputs": [
        {
          "output_type": "stream",
          "name": "stderr",
          "text": [
            "/usr/local/lib/python3.7/dist-packages/sklearn/metrics/_classification.py:1308: UndefinedMetricWarning: Precision is ill-defined and being set to 0.0 in labels with no predicted samples. Use `zero_division` parameter to control this behavior.\n",
            "  _warn_prf(average, modifier, msg_start, len(result))\n",
            "/usr/local/lib/python3.7/dist-packages/sklearn/metrics/_classification.py:1308: UndefinedMetricWarning: Precision is ill-defined and being set to 0.0 in labels with no predicted samples. Use `zero_division` parameter to control this behavior.\n",
            "  _warn_prf(average, modifier, msg_start, len(result))\n",
            "/usr/local/lib/python3.7/dist-packages/sklearn/metrics/_classification.py:1308: UndefinedMetricWarning: Precision is ill-defined and being set to 0.0 in labels with no predicted samples. Use `zero_division` parameter to control this behavior.\n",
            "  _warn_prf(average, modifier, msg_start, len(result))\n",
            "/usr/local/lib/python3.7/dist-packages/sklearn/metrics/_classification.py:1308: UndefinedMetricWarning: Precision is ill-defined and being set to 0.0 in labels with no predicted samples. Use `zero_division` parameter to control this behavior.\n",
            "  _warn_prf(average, modifier, msg_start, len(result))\n",
            "/usr/local/lib/python3.7/dist-packages/sklearn/metrics/_classification.py:1308: UndefinedMetricWarning: Precision is ill-defined and being set to 0.0 in labels with no predicted samples. Use `zero_division` parameter to control this behavior.\n",
            "  _warn_prf(average, modifier, msg_start, len(result))\n",
            "/usr/local/lib/python3.7/dist-packages/sklearn/metrics/_classification.py:1308: UndefinedMetricWarning: Precision is ill-defined and being set to 0.0 in labels with no predicted samples. Use `zero_division` parameter to control this behavior.\n",
            "  _warn_prf(average, modifier, msg_start, len(result))\n",
            "/usr/local/lib/python3.7/dist-packages/sklearn/metrics/_classification.py:1308: UndefinedMetricWarning: Precision is ill-defined and being set to 0.0 in labels with no predicted samples. Use `zero_division` parameter to control this behavior.\n",
            "  _warn_prf(average, modifier, msg_start, len(result))\n",
            "/usr/local/lib/python3.7/dist-packages/sklearn/metrics/_classification.py:1308: UndefinedMetricWarning: Precision is ill-defined and being set to 0.0 in labels with no predicted samples. Use `zero_division` parameter to control this behavior.\n",
            "  _warn_prf(average, modifier, msg_start, len(result))\n",
            "/usr/local/lib/python3.7/dist-packages/sklearn/metrics/_classification.py:1308: UndefinedMetricWarning: Precision is ill-defined and being set to 0.0 in labels with no predicted samples. Use `zero_division` parameter to control this behavior.\n",
            "  _warn_prf(average, modifier, msg_start, len(result))\n",
            "/usr/local/lib/python3.7/dist-packages/sklearn/metrics/_classification.py:1308: UndefinedMetricWarning: Precision is ill-defined and being set to 0.0 in labels with no predicted samples. Use `zero_division` parameter to control this behavior.\n",
            "  _warn_prf(average, modifier, msg_start, len(result))\n",
            "/usr/local/lib/python3.7/dist-packages/sklearn/metrics/_classification.py:1308: UndefinedMetricWarning: Precision is ill-defined and being set to 0.0 in labels with no predicted samples. Use `zero_division` parameter to control this behavior.\n",
            "  _warn_prf(average, modifier, msg_start, len(result))\n",
            "/usr/local/lib/python3.7/dist-packages/sklearn/metrics/_classification.py:1308: UndefinedMetricWarning: Precision is ill-defined and being set to 0.0 in labels with no predicted samples. Use `zero_division` parameter to control this behavior.\n",
            "  _warn_prf(average, modifier, msg_start, len(result))\n",
            "/usr/local/lib/python3.7/dist-packages/sklearn/metrics/_classification.py:1308: UndefinedMetricWarning: Precision is ill-defined and being set to 0.0 in labels with no predicted samples. Use `zero_division` parameter to control this behavior.\n",
            "  _warn_prf(average, modifier, msg_start, len(result))\n",
            "/usr/local/lib/python3.7/dist-packages/sklearn/metrics/_classification.py:1308: UndefinedMetricWarning: Precision is ill-defined and being set to 0.0 in labels with no predicted samples. Use `zero_division` parameter to control this behavior.\n",
            "  _warn_prf(average, modifier, msg_start, len(result))\n",
            "/usr/local/lib/python3.7/dist-packages/sklearn/metrics/_classification.py:1308: UndefinedMetricWarning: Precision is ill-defined and being set to 0.0 in labels with no predicted samples. Use `zero_division` parameter to control this behavior.\n",
            "  _warn_prf(average, modifier, msg_start, len(result))\n",
            "/usr/local/lib/python3.7/dist-packages/sklearn/metrics/_classification.py:1308: UndefinedMetricWarning: Precision is ill-defined and being set to 0.0 in labels with no predicted samples. Use `zero_division` parameter to control this behavior.\n",
            "  _warn_prf(average, modifier, msg_start, len(result))\n",
            "/usr/local/lib/python3.7/dist-packages/sklearn/metrics/_classification.py:1308: UndefinedMetricWarning: Precision is ill-defined and being set to 0.0 in labels with no predicted samples. Use `zero_division` parameter to control this behavior.\n",
            "  _warn_prf(average, modifier, msg_start, len(result))\n",
            "/usr/local/lib/python3.7/dist-packages/sklearn/metrics/_classification.py:1308: UndefinedMetricWarning: Precision is ill-defined and being set to 0.0 in labels with no predicted samples. Use `zero_division` parameter to control this behavior.\n",
            "  _warn_prf(average, modifier, msg_start, len(result))\n",
            "/usr/local/lib/python3.7/dist-packages/sklearn/metrics/_classification.py:1308: UndefinedMetricWarning: Precision is ill-defined and being set to 0.0 in labels with no predicted samples. Use `zero_division` parameter to control this behavior.\n",
            "  _warn_prf(average, modifier, msg_start, len(result))\n",
            "/usr/local/lib/python3.7/dist-packages/sklearn/metrics/_classification.py:1308: UndefinedMetricWarning: Precision is ill-defined and being set to 0.0 in labels with no predicted samples. Use `zero_division` parameter to control this behavior.\n",
            "  _warn_prf(average, modifier, msg_start, len(result))\n"
          ]
        }
      ]
    },
    {
      "cell_type": "code",
      "metadata": {
        "colab": {
          "base_uri": "https://localhost:8080/",
          "height": 81
        },
        "id": "fKK99W-gvVa3",
        "outputId": "2a97e342-eb01-4c28-d99f-6d4f69a65f43"
      },
      "source": [
        "results_cv_stratified_1gram"
      ],
      "execution_count": null,
      "outputs": [
        {
          "output_type": "execute_result",
          "data": {
            "text/html": [
              "<div>\n",
              "<style scoped>\n",
              "    .dataframe tbody tr th:only-of-type {\n",
              "        vertical-align: middle;\n",
              "    }\n",
              "\n",
              "    .dataframe tbody tr th {\n",
              "        vertical-align: top;\n",
              "    }\n",
              "\n",
              "    .dataframe thead th {\n",
              "        text-align: right;\n",
              "    }\n",
              "</style>\n",
              "<table border=\"1\" class=\"dataframe\">\n",
              "  <thead>\n",
              "    <tr style=\"text-align: right;\">\n",
              "      <th></th>\n",
              "      <th>Model</th>\n",
              "      <th>Accuracy</th>\n",
              "      <th>Macro Precision</th>\n",
              "      <th>Macro Recall</th>\n",
              "      <th>Macro F1score</th>\n",
              "      <th>Weighted Precision</th>\n",
              "      <th>Weighted Recall</th>\n",
              "      <th>Weighted F1</th>\n",
              "      <th>Time taken</th>\n",
              "    </tr>\n",
              "  </thead>\n",
              "  <tbody>\n",
              "    <tr>\n",
              "      <th>0</th>\n",
              "      <td>MultinomialNB1</td>\n",
              "      <td>0.858094</td>\n",
              "      <td>0.352014</td>\n",
              "      <td>0.328769</td>\n",
              "      <td>0.334049</td>\n",
              "      <td>0.838411</td>\n",
              "      <td>0.858094</td>\n",
              "      <td>0.83823</td>\n",
              "      <td>28.483524</td>\n",
              "    </tr>\n",
              "  </tbody>\n",
              "</table>\n",
              "</div>"
            ],
            "text/plain": [
              "            Model  Accuracy  ...  Weighted F1  Time taken\n",
              "0  MultinomialNB1  0.858094  ...      0.83823   28.483524\n",
              "\n",
              "[1 rows x 9 columns]"
            ]
          },
          "metadata": {},
          "execution_count": 43
        }
      ]
    },
    {
      "cell_type": "code",
      "metadata": {
        "colab": {
          "base_uri": "https://localhost:8080/",
          "height": 81
        },
        "id": "9Gx0pCrfv76r",
        "outputId": "544f3764-5d7b-4800-d9fa-673900df387f"
      },
      "source": [
        "results_cv_stratified_2gram"
      ],
      "execution_count": null,
      "outputs": [
        {
          "output_type": "execute_result",
          "data": {
            "text/html": [
              "<div>\n",
              "<style scoped>\n",
              "    .dataframe tbody tr th:only-of-type {\n",
              "        vertical-align: middle;\n",
              "    }\n",
              "\n",
              "    .dataframe tbody tr th {\n",
              "        vertical-align: top;\n",
              "    }\n",
              "\n",
              "    .dataframe thead th {\n",
              "        text-align: right;\n",
              "    }\n",
              "</style>\n",
              "<table border=\"1\" class=\"dataframe\">\n",
              "  <thead>\n",
              "    <tr style=\"text-align: right;\">\n",
              "      <th></th>\n",
              "      <th>Model</th>\n",
              "      <th>Accuracy</th>\n",
              "      <th>Macro Precision</th>\n",
              "      <th>Macro Recall</th>\n",
              "      <th>Macro F1score</th>\n",
              "      <th>Weighted Precision</th>\n",
              "      <th>Weighted Recall</th>\n",
              "      <th>Weighted F1</th>\n",
              "      <th>Time taken</th>\n",
              "    </tr>\n",
              "  </thead>\n",
              "  <tbody>\n",
              "    <tr>\n",
              "      <th>0</th>\n",
              "      <td>MultinomialNB2</td>\n",
              "      <td>0.825682</td>\n",
              "      <td>0.348484</td>\n",
              "      <td>0.302296</td>\n",
              "      <td>0.307413</td>\n",
              "      <td>0.817254</td>\n",
              "      <td>0.825682</td>\n",
              "      <td>0.794479</td>\n",
              "      <td>141.008028</td>\n",
              "    </tr>\n",
              "  </tbody>\n",
              "</table>\n",
              "</div>"
            ],
            "text/plain": [
              "            Model  Accuracy  ...  Weighted F1  Time taken\n",
              "0  MultinomialNB2  0.825682  ...     0.794479  141.008028\n",
              "\n",
              "[1 rows x 9 columns]"
            ]
          },
          "metadata": {},
          "execution_count": 44
        }
      ]
    },
    {
      "cell_type": "code",
      "metadata": {
        "colab": {
          "base_uri": "https://localhost:8080/"
        },
        "id": "x8o9-tXQwAXj",
        "outputId": "51851e50-345a-4ecd-8570-f334e5aaa37d"
      },
      "source": [
        "## Testing on all Models using 1-gram \n",
        "\n",
        "# Initialize Model Object\n",
        "gnb = GaussianNB()\n",
        "mnb = MultinomialNB()\n",
        "logit = LogisticRegression(random_state=seed)\n",
        "randomforest = RandomForestClassifier(n_estimators=100, max_depth=5, random_state=0)\n",
        "linearsvc = LinearSVC()\n",
        "\n",
        "## We do NOT want these two. They take FOREVER to train AND predict\n",
        "# knn = KNeighborsClassifier()  \n",
        "# decisiontree = DecisionTreeClassifier(random_state=seed)\n",
        "\n",
        "# to concat all models\n",
        "results_cv_straitified_1gram = pd.concat([metric_cv_stratified(mnb, X_train_val_tfidf1, y_train_val, 5, 'MultinomialNB1'),\n",
        "                                           metric_cv_stratified(gnb, X_train_val_tfidf1, y_train_val, 5, 'GaussianNB1'),\n",
        "                                           metric_cv_stratified(logit, X_train_val_tfidf1, y_train_val, 5, 'LogisticRegression1'),\n",
        "                                           metric_cv_stratified(randomforest, X_train_val_tfidf1, y_train_val, 5, 'RandomForest1'),\n",
        "                                           metric_cv_stratified(linearsvc, X_train_val_tfidf1, y_train_val, 5, 'LinearSVC1')\n",
        "                                          ], axis=0).reset_index()"
      ],
      "execution_count": null,
      "outputs": [
        {
          "output_type": "stream",
          "name": "stderr",
          "text": [
            "/usr/local/lib/python3.7/dist-packages/sklearn/metrics/_classification.py:1308: UndefinedMetricWarning: Precision is ill-defined and being set to 0.0 in labels with no predicted samples. Use `zero_division` parameter to control this behavior.\n",
            "  _warn_prf(average, modifier, msg_start, len(result))\n",
            "/usr/local/lib/python3.7/dist-packages/sklearn/metrics/_classification.py:1308: UndefinedMetricWarning: Precision is ill-defined and being set to 0.0 in labels with no predicted samples. Use `zero_division` parameter to control this behavior.\n",
            "  _warn_prf(average, modifier, msg_start, len(result))\n",
            "/usr/local/lib/python3.7/dist-packages/sklearn/metrics/_classification.py:1308: UndefinedMetricWarning: Precision is ill-defined and being set to 0.0 in labels with no predicted samples. Use `zero_division` parameter to control this behavior.\n",
            "  _warn_prf(average, modifier, msg_start, len(result))\n",
            "/usr/local/lib/python3.7/dist-packages/sklearn/metrics/_classification.py:1308: UndefinedMetricWarning: Precision is ill-defined and being set to 0.0 in labels with no predicted samples. Use `zero_division` parameter to control this behavior.\n",
            "  _warn_prf(average, modifier, msg_start, len(result))\n",
            "/usr/local/lib/python3.7/dist-packages/sklearn/metrics/_classification.py:1308: UndefinedMetricWarning: Precision is ill-defined and being set to 0.0 in labels with no predicted samples. Use `zero_division` parameter to control this behavior.\n",
            "  _warn_prf(average, modifier, msg_start, len(result))\n",
            "/usr/local/lib/python3.7/dist-packages/sklearn/metrics/_classification.py:1308: UndefinedMetricWarning: Precision is ill-defined and being set to 0.0 in labels with no predicted samples. Use `zero_division` parameter to control this behavior.\n",
            "  _warn_prf(average, modifier, msg_start, len(result))\n",
            "/usr/local/lib/python3.7/dist-packages/sklearn/metrics/_classification.py:1308: UndefinedMetricWarning: Precision is ill-defined and being set to 0.0 in labels with no predicted samples. Use `zero_division` parameter to control this behavior.\n",
            "  _warn_prf(average, modifier, msg_start, len(result))\n",
            "/usr/local/lib/python3.7/dist-packages/sklearn/metrics/_classification.py:1308: UndefinedMetricWarning: Precision is ill-defined and being set to 0.0 in labels with no predicted samples. Use `zero_division` parameter to control this behavior.\n",
            "  _warn_prf(average, modifier, msg_start, len(result))\n",
            "/usr/local/lib/python3.7/dist-packages/sklearn/metrics/_classification.py:1308: UndefinedMetricWarning: Precision is ill-defined and being set to 0.0 in labels with no predicted samples. Use `zero_division` parameter to control this behavior.\n",
            "  _warn_prf(average, modifier, msg_start, len(result))\n",
            "/usr/local/lib/python3.7/dist-packages/sklearn/metrics/_classification.py:1308: UndefinedMetricWarning: Precision is ill-defined and being set to 0.0 in labels with no predicted samples. Use `zero_division` parameter to control this behavior.\n",
            "  _warn_prf(average, modifier, msg_start, len(result))\n",
            "/usr/local/lib/python3.7/dist-packages/sklearn/linear_model/_logistic.py:818: ConvergenceWarning: lbfgs failed to converge (status=1):\n",
            "STOP: TOTAL NO. of ITERATIONS REACHED LIMIT.\n",
            "\n",
            "Increase the number of iterations (max_iter) or scale the data as shown in:\n",
            "    https://scikit-learn.org/stable/modules/preprocessing.html\n",
            "Please also refer to the documentation for alternative solver options:\n",
            "    https://scikit-learn.org/stable/modules/linear_model.html#logistic-regression\n",
            "  extra_warning_msg=_LOGISTIC_SOLVER_CONVERGENCE_MSG,\n",
            "/usr/local/lib/python3.7/dist-packages/sklearn/linear_model/_logistic.py:818: ConvergenceWarning: lbfgs failed to converge (status=1):\n",
            "STOP: TOTAL NO. of ITERATIONS REACHED LIMIT.\n",
            "\n",
            "Increase the number of iterations (max_iter) or scale the data as shown in:\n",
            "    https://scikit-learn.org/stable/modules/preprocessing.html\n",
            "Please also refer to the documentation for alternative solver options:\n",
            "    https://scikit-learn.org/stable/modules/linear_model.html#logistic-regression\n",
            "  extra_warning_msg=_LOGISTIC_SOLVER_CONVERGENCE_MSG,\n",
            "/usr/local/lib/python3.7/dist-packages/sklearn/linear_model/_logistic.py:818: ConvergenceWarning: lbfgs failed to converge (status=1):\n",
            "STOP: TOTAL NO. of ITERATIONS REACHED LIMIT.\n",
            "\n",
            "Increase the number of iterations (max_iter) or scale the data as shown in:\n",
            "    https://scikit-learn.org/stable/modules/preprocessing.html\n",
            "Please also refer to the documentation for alternative solver options:\n",
            "    https://scikit-learn.org/stable/modules/linear_model.html#logistic-regression\n",
            "  extra_warning_msg=_LOGISTIC_SOLVER_CONVERGENCE_MSG,\n",
            "/usr/local/lib/python3.7/dist-packages/sklearn/linear_model/_logistic.py:818: ConvergenceWarning: lbfgs failed to converge (status=1):\n",
            "STOP: TOTAL NO. of ITERATIONS REACHED LIMIT.\n",
            "\n",
            "Increase the number of iterations (max_iter) or scale the data as shown in:\n",
            "    https://scikit-learn.org/stable/modules/preprocessing.html\n",
            "Please also refer to the documentation for alternative solver options:\n",
            "    https://scikit-learn.org/stable/modules/linear_model.html#logistic-regression\n",
            "  extra_warning_msg=_LOGISTIC_SOLVER_CONVERGENCE_MSG,\n",
            "/usr/local/lib/python3.7/dist-packages/sklearn/linear_model/_logistic.py:818: ConvergenceWarning: lbfgs failed to converge (status=1):\n",
            "STOP: TOTAL NO. of ITERATIONS REACHED LIMIT.\n",
            "\n",
            "Increase the number of iterations (max_iter) or scale the data as shown in:\n",
            "    https://scikit-learn.org/stable/modules/preprocessing.html\n",
            "Please also refer to the documentation for alternative solver options:\n",
            "    https://scikit-learn.org/stable/modules/linear_model.html#logistic-regression\n",
            "  extra_warning_msg=_LOGISTIC_SOLVER_CONVERGENCE_MSG,\n",
            "/usr/local/lib/python3.7/dist-packages/sklearn/linear_model/_logistic.py:818: ConvergenceWarning: lbfgs failed to converge (status=1):\n",
            "STOP: TOTAL NO. of ITERATIONS REACHED LIMIT.\n",
            "\n",
            "Increase the number of iterations (max_iter) or scale the data as shown in:\n",
            "    https://scikit-learn.org/stable/modules/preprocessing.html\n",
            "Please also refer to the documentation for alternative solver options:\n",
            "    https://scikit-learn.org/stable/modules/linear_model.html#logistic-regression\n",
            "  extra_warning_msg=_LOGISTIC_SOLVER_CONVERGENCE_MSG,\n",
            "/usr/local/lib/python3.7/dist-packages/sklearn/metrics/_classification.py:1308: UndefinedMetricWarning: Precision is ill-defined and being set to 0.0 in labels with no predicted samples. Use `zero_division` parameter to control this behavior.\n",
            "  _warn_prf(average, modifier, msg_start, len(result))\n",
            "/usr/local/lib/python3.7/dist-packages/sklearn/linear_model/_logistic.py:818: ConvergenceWarning: lbfgs failed to converge (status=1):\n",
            "STOP: TOTAL NO. of ITERATIONS REACHED LIMIT.\n",
            "\n",
            "Increase the number of iterations (max_iter) or scale the data as shown in:\n",
            "    https://scikit-learn.org/stable/modules/preprocessing.html\n",
            "Please also refer to the documentation for alternative solver options:\n",
            "    https://scikit-learn.org/stable/modules/linear_model.html#logistic-regression\n",
            "  extra_warning_msg=_LOGISTIC_SOLVER_CONVERGENCE_MSG,\n",
            "/usr/local/lib/python3.7/dist-packages/sklearn/metrics/_classification.py:1308: UndefinedMetricWarning: Precision is ill-defined and being set to 0.0 in labels with no predicted samples. Use `zero_division` parameter to control this behavior.\n",
            "  _warn_prf(average, modifier, msg_start, len(result))\n",
            "/usr/local/lib/python3.7/dist-packages/sklearn/linear_model/_logistic.py:818: ConvergenceWarning: lbfgs failed to converge (status=1):\n",
            "STOP: TOTAL NO. of ITERATIONS REACHED LIMIT.\n",
            "\n",
            "Increase the number of iterations (max_iter) or scale the data as shown in:\n",
            "    https://scikit-learn.org/stable/modules/preprocessing.html\n",
            "Please also refer to the documentation for alternative solver options:\n",
            "    https://scikit-learn.org/stable/modules/linear_model.html#logistic-regression\n",
            "  extra_warning_msg=_LOGISTIC_SOLVER_CONVERGENCE_MSG,\n",
            "/usr/local/lib/python3.7/dist-packages/sklearn/metrics/_classification.py:1308: UndefinedMetricWarning: Precision is ill-defined and being set to 0.0 in labels with no predicted samples. Use `zero_division` parameter to control this behavior.\n",
            "  _warn_prf(average, modifier, msg_start, len(result))\n",
            "/usr/local/lib/python3.7/dist-packages/sklearn/linear_model/_logistic.py:818: ConvergenceWarning: lbfgs failed to converge (status=1):\n",
            "STOP: TOTAL NO. of ITERATIONS REACHED LIMIT.\n",
            "\n",
            "Increase the number of iterations (max_iter) or scale the data as shown in:\n",
            "    https://scikit-learn.org/stable/modules/preprocessing.html\n",
            "Please also refer to the documentation for alternative solver options:\n",
            "    https://scikit-learn.org/stable/modules/linear_model.html#logistic-regression\n",
            "  extra_warning_msg=_LOGISTIC_SOLVER_CONVERGENCE_MSG,\n",
            "/usr/local/lib/python3.7/dist-packages/sklearn/metrics/_classification.py:1308: UndefinedMetricWarning: Precision is ill-defined and being set to 0.0 in labels with no predicted samples. Use `zero_division` parameter to control this behavior.\n",
            "  _warn_prf(average, modifier, msg_start, len(result))\n",
            "/usr/local/lib/python3.7/dist-packages/sklearn/linear_model/_logistic.py:818: ConvergenceWarning: lbfgs failed to converge (status=1):\n",
            "STOP: TOTAL NO. of ITERATIONS REACHED LIMIT.\n",
            "\n",
            "Increase the number of iterations (max_iter) or scale the data as shown in:\n",
            "    https://scikit-learn.org/stable/modules/preprocessing.html\n",
            "Please also refer to the documentation for alternative solver options:\n",
            "    https://scikit-learn.org/stable/modules/linear_model.html#logistic-regression\n",
            "  extra_warning_msg=_LOGISTIC_SOLVER_CONVERGENCE_MSG,\n",
            "/usr/local/lib/python3.7/dist-packages/sklearn/metrics/_classification.py:1308: UndefinedMetricWarning: Precision is ill-defined and being set to 0.0 in labels with no predicted samples. Use `zero_division` parameter to control this behavior.\n",
            "  _warn_prf(average, modifier, msg_start, len(result))\n",
            "/usr/local/lib/python3.7/dist-packages/sklearn/linear_model/_logistic.py:818: ConvergenceWarning: lbfgs failed to converge (status=1):\n",
            "STOP: TOTAL NO. of ITERATIONS REACHED LIMIT.\n",
            "\n",
            "Increase the number of iterations (max_iter) or scale the data as shown in:\n",
            "    https://scikit-learn.org/stable/modules/preprocessing.html\n",
            "Please also refer to the documentation for alternative solver options:\n",
            "    https://scikit-learn.org/stable/modules/linear_model.html#logistic-regression\n",
            "  extra_warning_msg=_LOGISTIC_SOLVER_CONVERGENCE_MSG,\n",
            "/usr/local/lib/python3.7/dist-packages/sklearn/linear_model/_logistic.py:818: ConvergenceWarning: lbfgs failed to converge (status=1):\n",
            "STOP: TOTAL NO. of ITERATIONS REACHED LIMIT.\n",
            "\n",
            "Increase the number of iterations (max_iter) or scale the data as shown in:\n",
            "    https://scikit-learn.org/stable/modules/preprocessing.html\n",
            "Please also refer to the documentation for alternative solver options:\n",
            "    https://scikit-learn.org/stable/modules/linear_model.html#logistic-regression\n",
            "  extra_warning_msg=_LOGISTIC_SOLVER_CONVERGENCE_MSG,\n",
            "/usr/local/lib/python3.7/dist-packages/sklearn/linear_model/_logistic.py:818: ConvergenceWarning: lbfgs failed to converge (status=1):\n",
            "STOP: TOTAL NO. of ITERATIONS REACHED LIMIT.\n",
            "\n",
            "Increase the number of iterations (max_iter) or scale the data as shown in:\n",
            "    https://scikit-learn.org/stable/modules/preprocessing.html\n",
            "Please also refer to the documentation for alternative solver options:\n",
            "    https://scikit-learn.org/stable/modules/linear_model.html#logistic-regression\n",
            "  extra_warning_msg=_LOGISTIC_SOLVER_CONVERGENCE_MSG,\n",
            "/usr/local/lib/python3.7/dist-packages/sklearn/linear_model/_logistic.py:818: ConvergenceWarning: lbfgs failed to converge (status=1):\n",
            "STOP: TOTAL NO. of ITERATIONS REACHED LIMIT.\n",
            "\n",
            "Increase the number of iterations (max_iter) or scale the data as shown in:\n",
            "    https://scikit-learn.org/stable/modules/preprocessing.html\n",
            "Please also refer to the documentation for alternative solver options:\n",
            "    https://scikit-learn.org/stable/modules/linear_model.html#logistic-regression\n",
            "  extra_warning_msg=_LOGISTIC_SOLVER_CONVERGENCE_MSG,\n",
            "/usr/local/lib/python3.7/dist-packages/sklearn/linear_model/_logistic.py:818: ConvergenceWarning: lbfgs failed to converge (status=1):\n",
            "STOP: TOTAL NO. of ITERATIONS REACHED LIMIT.\n",
            "\n",
            "Increase the number of iterations (max_iter) or scale the data as shown in:\n",
            "    https://scikit-learn.org/stable/modules/preprocessing.html\n",
            "Please also refer to the documentation for alternative solver options:\n",
            "    https://scikit-learn.org/stable/modules/linear_model.html#logistic-regression\n",
            "  extra_warning_msg=_LOGISTIC_SOLVER_CONVERGENCE_MSG,\n",
            "/usr/local/lib/python3.7/dist-packages/sklearn/linear_model/_logistic.py:818: ConvergenceWarning: lbfgs failed to converge (status=1):\n",
            "STOP: TOTAL NO. of ITERATIONS REACHED LIMIT.\n",
            "\n",
            "Increase the number of iterations (max_iter) or scale the data as shown in:\n",
            "    https://scikit-learn.org/stable/modules/preprocessing.html\n",
            "Please also refer to the documentation for alternative solver options:\n",
            "    https://scikit-learn.org/stable/modules/linear_model.html#logistic-regression\n",
            "  extra_warning_msg=_LOGISTIC_SOLVER_CONVERGENCE_MSG,\n",
            "/usr/local/lib/python3.7/dist-packages/sklearn/linear_model/_logistic.py:818: ConvergenceWarning: lbfgs failed to converge (status=1):\n",
            "STOP: TOTAL NO. of ITERATIONS REACHED LIMIT.\n",
            "\n",
            "Increase the number of iterations (max_iter) or scale the data as shown in:\n",
            "    https://scikit-learn.org/stable/modules/preprocessing.html\n",
            "Please also refer to the documentation for alternative solver options:\n",
            "    https://scikit-learn.org/stable/modules/linear_model.html#logistic-regression\n",
            "  extra_warning_msg=_LOGISTIC_SOLVER_CONVERGENCE_MSG,\n",
            "/usr/local/lib/python3.7/dist-packages/sklearn/linear_model/_logistic.py:818: ConvergenceWarning: lbfgs failed to converge (status=1):\n",
            "STOP: TOTAL NO. of ITERATIONS REACHED LIMIT.\n",
            "\n",
            "Increase the number of iterations (max_iter) or scale the data as shown in:\n",
            "    https://scikit-learn.org/stable/modules/preprocessing.html\n",
            "Please also refer to the documentation for alternative solver options:\n",
            "    https://scikit-learn.org/stable/modules/linear_model.html#logistic-regression\n",
            "  extra_warning_msg=_LOGISTIC_SOLVER_CONVERGENCE_MSG,\n",
            "/usr/local/lib/python3.7/dist-packages/sklearn/linear_model/_logistic.py:818: ConvergenceWarning: lbfgs failed to converge (status=1):\n",
            "STOP: TOTAL NO. of ITERATIONS REACHED LIMIT.\n",
            "\n",
            "Increase the number of iterations (max_iter) or scale the data as shown in:\n",
            "    https://scikit-learn.org/stable/modules/preprocessing.html\n",
            "Please also refer to the documentation for alternative solver options:\n",
            "    https://scikit-learn.org/stable/modules/linear_model.html#logistic-regression\n",
            "  extra_warning_msg=_LOGISTIC_SOLVER_CONVERGENCE_MSG,\n",
            "/usr/local/lib/python3.7/dist-packages/sklearn/linear_model/_logistic.py:818: ConvergenceWarning: lbfgs failed to converge (status=1):\n",
            "STOP: TOTAL NO. of ITERATIONS REACHED LIMIT.\n",
            "\n",
            "Increase the number of iterations (max_iter) or scale the data as shown in:\n",
            "    https://scikit-learn.org/stable/modules/preprocessing.html\n",
            "Please also refer to the documentation for alternative solver options:\n",
            "    https://scikit-learn.org/stable/modules/linear_model.html#logistic-regression\n",
            "  extra_warning_msg=_LOGISTIC_SOLVER_CONVERGENCE_MSG,\n",
            "/usr/local/lib/python3.7/dist-packages/sklearn/linear_model/_logistic.py:818: ConvergenceWarning: lbfgs failed to converge (status=1):\n",
            "STOP: TOTAL NO. of ITERATIONS REACHED LIMIT.\n",
            "\n",
            "Increase the number of iterations (max_iter) or scale the data as shown in:\n",
            "    https://scikit-learn.org/stable/modules/preprocessing.html\n",
            "Please also refer to the documentation for alternative solver options:\n",
            "    https://scikit-learn.org/stable/modules/linear_model.html#logistic-regression\n",
            "  extra_warning_msg=_LOGISTIC_SOLVER_CONVERGENCE_MSG,\n",
            "/usr/local/lib/python3.7/dist-packages/sklearn/metrics/_classification.py:1308: UndefinedMetricWarning: Precision is ill-defined and being set to 0.0 in labels with no predicted samples. Use `zero_division` parameter to control this behavior.\n",
            "  _warn_prf(average, modifier, msg_start, len(result))\n",
            "/usr/local/lib/python3.7/dist-packages/sklearn/linear_model/_logistic.py:818: ConvergenceWarning: lbfgs failed to converge (status=1):\n",
            "STOP: TOTAL NO. of ITERATIONS REACHED LIMIT.\n",
            "\n",
            "Increase the number of iterations (max_iter) or scale the data as shown in:\n",
            "    https://scikit-learn.org/stable/modules/preprocessing.html\n",
            "Please also refer to the documentation for alternative solver options:\n",
            "    https://scikit-learn.org/stable/modules/linear_model.html#logistic-regression\n",
            "  extra_warning_msg=_LOGISTIC_SOLVER_CONVERGENCE_MSG,\n",
            "/usr/local/lib/python3.7/dist-packages/sklearn/metrics/_classification.py:1308: UndefinedMetricWarning: Precision is ill-defined and being set to 0.0 in labels with no predicted samples. Use `zero_division` parameter to control this behavior.\n",
            "  _warn_prf(average, modifier, msg_start, len(result))\n",
            "/usr/local/lib/python3.7/dist-packages/sklearn/linear_model/_logistic.py:818: ConvergenceWarning: lbfgs failed to converge (status=1):\n",
            "STOP: TOTAL NO. of ITERATIONS REACHED LIMIT.\n",
            "\n",
            "Increase the number of iterations (max_iter) or scale the data as shown in:\n",
            "    https://scikit-learn.org/stable/modules/preprocessing.html\n",
            "Please also refer to the documentation for alternative solver options:\n",
            "    https://scikit-learn.org/stable/modules/linear_model.html#logistic-regression\n",
            "  extra_warning_msg=_LOGISTIC_SOLVER_CONVERGENCE_MSG,\n",
            "/usr/local/lib/python3.7/dist-packages/sklearn/metrics/_classification.py:1308: UndefinedMetricWarning: Precision is ill-defined and being set to 0.0 in labels with no predicted samples. Use `zero_division` parameter to control this behavior.\n",
            "  _warn_prf(average, modifier, msg_start, len(result))\n",
            "/usr/local/lib/python3.7/dist-packages/sklearn/linear_model/_logistic.py:818: ConvergenceWarning: lbfgs failed to converge (status=1):\n",
            "STOP: TOTAL NO. of ITERATIONS REACHED LIMIT.\n",
            "\n",
            "Increase the number of iterations (max_iter) or scale the data as shown in:\n",
            "    https://scikit-learn.org/stable/modules/preprocessing.html\n",
            "Please also refer to the documentation for alternative solver options:\n",
            "    https://scikit-learn.org/stable/modules/linear_model.html#logistic-regression\n",
            "  extra_warning_msg=_LOGISTIC_SOLVER_CONVERGENCE_MSG,\n",
            "/usr/local/lib/python3.7/dist-packages/sklearn/metrics/_classification.py:1308: UndefinedMetricWarning: Precision is ill-defined and being set to 0.0 in labels with no predicted samples. Use `zero_division` parameter to control this behavior.\n",
            "  _warn_prf(average, modifier, msg_start, len(result))\n",
            "/usr/local/lib/python3.7/dist-packages/sklearn/linear_model/_logistic.py:818: ConvergenceWarning: lbfgs failed to converge (status=1):\n",
            "STOP: TOTAL NO. of ITERATIONS REACHED LIMIT.\n",
            "\n",
            "Increase the number of iterations (max_iter) or scale the data as shown in:\n",
            "    https://scikit-learn.org/stable/modules/preprocessing.html\n",
            "Please also refer to the documentation for alternative solver options:\n",
            "    https://scikit-learn.org/stable/modules/linear_model.html#logistic-regression\n",
            "  extra_warning_msg=_LOGISTIC_SOLVER_CONVERGENCE_MSG,\n",
            "/usr/local/lib/python3.7/dist-packages/sklearn/metrics/_classification.py:1308: UndefinedMetricWarning: Precision is ill-defined and being set to 0.0 in labels with no predicted samples. Use `zero_division` parameter to control this behavior.\n",
            "  _warn_prf(average, modifier, msg_start, len(result))\n",
            "/usr/local/lib/python3.7/dist-packages/sklearn/linear_model/_logistic.py:818: ConvergenceWarning: lbfgs failed to converge (status=1):\n",
            "STOP: TOTAL NO. of ITERATIONS REACHED LIMIT.\n",
            "\n",
            "Increase the number of iterations (max_iter) or scale the data as shown in:\n",
            "    https://scikit-learn.org/stable/modules/preprocessing.html\n",
            "Please also refer to the documentation for alternative solver options:\n",
            "    https://scikit-learn.org/stable/modules/linear_model.html#logistic-regression\n",
            "  extra_warning_msg=_LOGISTIC_SOLVER_CONVERGENCE_MSG,\n",
            "/usr/local/lib/python3.7/dist-packages/sklearn/linear_model/_logistic.py:818: ConvergenceWarning: lbfgs failed to converge (status=1):\n",
            "STOP: TOTAL NO. of ITERATIONS REACHED LIMIT.\n",
            "\n",
            "Increase the number of iterations (max_iter) or scale the data as shown in:\n",
            "    https://scikit-learn.org/stable/modules/preprocessing.html\n",
            "Please also refer to the documentation for alternative solver options:\n",
            "    https://scikit-learn.org/stable/modules/linear_model.html#logistic-regression\n",
            "  extra_warning_msg=_LOGISTIC_SOLVER_CONVERGENCE_MSG,\n",
            "/usr/local/lib/python3.7/dist-packages/sklearn/linear_model/_logistic.py:818: ConvergenceWarning: lbfgs failed to converge (status=1):\n",
            "STOP: TOTAL NO. of ITERATIONS REACHED LIMIT.\n",
            "\n",
            "Increase the number of iterations (max_iter) or scale the data as shown in:\n",
            "    https://scikit-learn.org/stable/modules/preprocessing.html\n",
            "Please also refer to the documentation for alternative solver options:\n",
            "    https://scikit-learn.org/stable/modules/linear_model.html#logistic-regression\n",
            "  extra_warning_msg=_LOGISTIC_SOLVER_CONVERGENCE_MSG,\n",
            "/usr/local/lib/python3.7/dist-packages/sklearn/linear_model/_logistic.py:818: ConvergenceWarning: lbfgs failed to converge (status=1):\n",
            "STOP: TOTAL NO. of ITERATIONS REACHED LIMIT.\n",
            "\n",
            "Increase the number of iterations (max_iter) or scale the data as shown in:\n",
            "    https://scikit-learn.org/stable/modules/preprocessing.html\n",
            "Please also refer to the documentation for alternative solver options:\n",
            "    https://scikit-learn.org/stable/modules/linear_model.html#logistic-regression\n",
            "  extra_warning_msg=_LOGISTIC_SOLVER_CONVERGENCE_MSG,\n",
            "/usr/local/lib/python3.7/dist-packages/sklearn/linear_model/_logistic.py:818: ConvergenceWarning: lbfgs failed to converge (status=1):\n",
            "STOP: TOTAL NO. of ITERATIONS REACHED LIMIT.\n",
            "\n",
            "Increase the number of iterations (max_iter) or scale the data as shown in:\n",
            "    https://scikit-learn.org/stable/modules/preprocessing.html\n",
            "Please also refer to the documentation for alternative solver options:\n",
            "    https://scikit-learn.org/stable/modules/linear_model.html#logistic-regression\n",
            "  extra_warning_msg=_LOGISTIC_SOLVER_CONVERGENCE_MSG,\n",
            "/usr/local/lib/python3.7/dist-packages/sklearn/linear_model/_logistic.py:818: ConvergenceWarning: lbfgs failed to converge (status=1):\n",
            "STOP: TOTAL NO. of ITERATIONS REACHED LIMIT.\n",
            "\n",
            "Increase the number of iterations (max_iter) or scale the data as shown in:\n",
            "    https://scikit-learn.org/stable/modules/preprocessing.html\n",
            "Please also refer to the documentation for alternative solver options:\n",
            "    https://scikit-learn.org/stable/modules/linear_model.html#logistic-regression\n",
            "  extra_warning_msg=_LOGISTIC_SOLVER_CONVERGENCE_MSG,\n",
            "/usr/local/lib/python3.7/dist-packages/sklearn/linear_model/_logistic.py:818: ConvergenceWarning: lbfgs failed to converge (status=1):\n",
            "STOP: TOTAL NO. of ITERATIONS REACHED LIMIT.\n",
            "\n",
            "Increase the number of iterations (max_iter) or scale the data as shown in:\n",
            "    https://scikit-learn.org/stable/modules/preprocessing.html\n",
            "Please also refer to the documentation for alternative solver options:\n",
            "    https://scikit-learn.org/stable/modules/linear_model.html#logistic-regression\n",
            "  extra_warning_msg=_LOGISTIC_SOLVER_CONVERGENCE_MSG,\n",
            "/usr/local/lib/python3.7/dist-packages/sklearn/linear_model/_logistic.py:818: ConvergenceWarning: lbfgs failed to converge (status=1):\n",
            "STOP: TOTAL NO. of ITERATIONS REACHED LIMIT.\n",
            "\n",
            "Increase the number of iterations (max_iter) or scale the data as shown in:\n",
            "    https://scikit-learn.org/stable/modules/preprocessing.html\n",
            "Please also refer to the documentation for alternative solver options:\n",
            "    https://scikit-learn.org/stable/modules/linear_model.html#logistic-regression\n",
            "  extra_warning_msg=_LOGISTIC_SOLVER_CONVERGENCE_MSG,\n",
            "/usr/local/lib/python3.7/dist-packages/sklearn/linear_model/_logistic.py:818: ConvergenceWarning: lbfgs failed to converge (status=1):\n",
            "STOP: TOTAL NO. of ITERATIONS REACHED LIMIT.\n",
            "\n",
            "Increase the number of iterations (max_iter) or scale the data as shown in:\n",
            "    https://scikit-learn.org/stable/modules/preprocessing.html\n",
            "Please also refer to the documentation for alternative solver options:\n",
            "    https://scikit-learn.org/stable/modules/linear_model.html#logistic-regression\n",
            "  extra_warning_msg=_LOGISTIC_SOLVER_CONVERGENCE_MSG,\n",
            "/usr/local/lib/python3.7/dist-packages/sklearn/linear_model/_logistic.py:818: ConvergenceWarning: lbfgs failed to converge (status=1):\n",
            "STOP: TOTAL NO. of ITERATIONS REACHED LIMIT.\n",
            "\n",
            "Increase the number of iterations (max_iter) or scale the data as shown in:\n",
            "    https://scikit-learn.org/stable/modules/preprocessing.html\n",
            "Please also refer to the documentation for alternative solver options:\n",
            "    https://scikit-learn.org/stable/modules/linear_model.html#logistic-regression\n",
            "  extra_warning_msg=_LOGISTIC_SOLVER_CONVERGENCE_MSG,\n",
            "/usr/local/lib/python3.7/dist-packages/sklearn/metrics/_classification.py:1308: UndefinedMetricWarning: Precision is ill-defined and being set to 0.0 in labels with no predicted samples. Use `zero_division` parameter to control this behavior.\n",
            "  _warn_prf(average, modifier, msg_start, len(result))\n",
            "/usr/local/lib/python3.7/dist-packages/sklearn/metrics/_classification.py:1308: UndefinedMetricWarning: Precision is ill-defined and being set to 0.0 in labels with no predicted samples. Use `zero_division` parameter to control this behavior.\n",
            "  _warn_prf(average, modifier, msg_start, len(result))\n",
            "/usr/local/lib/python3.7/dist-packages/sklearn/metrics/_classification.py:1308: UndefinedMetricWarning: Precision is ill-defined and being set to 0.0 in labels with no predicted samples. Use `zero_division` parameter to control this behavior.\n",
            "  _warn_prf(average, modifier, msg_start, len(result))\n",
            "/usr/local/lib/python3.7/dist-packages/sklearn/metrics/_classification.py:1308: UndefinedMetricWarning: Precision is ill-defined and being set to 0.0 in labels with no predicted samples. Use `zero_division` parameter to control this behavior.\n",
            "  _warn_prf(average, modifier, msg_start, len(result))\n",
            "/usr/local/lib/python3.7/dist-packages/sklearn/metrics/_classification.py:1308: UndefinedMetricWarning: Precision is ill-defined and being set to 0.0 in labels with no predicted samples. Use `zero_division` parameter to control this behavior.\n",
            "  _warn_prf(average, modifier, msg_start, len(result))\n",
            "/usr/local/lib/python3.7/dist-packages/sklearn/metrics/_classification.py:1308: UndefinedMetricWarning: Precision is ill-defined and being set to 0.0 in labels with no predicted samples. Use `zero_division` parameter to control this behavior.\n",
            "  _warn_prf(average, modifier, msg_start, len(result))\n",
            "/usr/local/lib/python3.7/dist-packages/sklearn/metrics/_classification.py:1308: UndefinedMetricWarning: Precision is ill-defined and being set to 0.0 in labels with no predicted samples. Use `zero_division` parameter to control this behavior.\n",
            "  _warn_prf(average, modifier, msg_start, len(result))\n",
            "/usr/local/lib/python3.7/dist-packages/sklearn/metrics/_classification.py:1308: UndefinedMetricWarning: Precision is ill-defined and being set to 0.0 in labels with no predicted samples. Use `zero_division` parameter to control this behavior.\n",
            "  _warn_prf(average, modifier, msg_start, len(result))\n",
            "/usr/local/lib/python3.7/dist-packages/sklearn/metrics/_classification.py:1308: UndefinedMetricWarning: Precision is ill-defined and being set to 0.0 in labels with no predicted samples. Use `zero_division` parameter to control this behavior.\n",
            "  _warn_prf(average, modifier, msg_start, len(result))\n",
            "/usr/local/lib/python3.7/dist-packages/sklearn/metrics/_classification.py:1308: UndefinedMetricWarning: Precision is ill-defined and being set to 0.0 in labels with no predicted samples. Use `zero_division` parameter to control this behavior.\n",
            "  _warn_prf(average, modifier, msg_start, len(result))\n",
            "/usr/local/lib/python3.7/dist-packages/sklearn/metrics/_classification.py:1308: UndefinedMetricWarning: Precision is ill-defined and being set to 0.0 in labels with no predicted samples. Use `zero_division` parameter to control this behavior.\n",
            "  _warn_prf(average, modifier, msg_start, len(result))\n",
            "/usr/local/lib/python3.7/dist-packages/sklearn/metrics/_classification.py:1308: UndefinedMetricWarning: Precision is ill-defined and being set to 0.0 in labels with no predicted samples. Use `zero_division` parameter to control this behavior.\n",
            "  _warn_prf(average, modifier, msg_start, len(result))\n",
            "/usr/local/lib/python3.7/dist-packages/sklearn/metrics/_classification.py:1308: UndefinedMetricWarning: Precision is ill-defined and being set to 0.0 in labels with no predicted samples. Use `zero_division` parameter to control this behavior.\n",
            "  _warn_prf(average, modifier, msg_start, len(result))\n",
            "/usr/local/lib/python3.7/dist-packages/sklearn/metrics/_classification.py:1308: UndefinedMetricWarning: Precision is ill-defined and being set to 0.0 in labels with no predicted samples. Use `zero_division` parameter to control this behavior.\n",
            "  _warn_prf(average, modifier, msg_start, len(result))\n",
            "/usr/local/lib/python3.7/dist-packages/sklearn/metrics/_classification.py:1308: UndefinedMetricWarning: Precision is ill-defined and being set to 0.0 in labels with no predicted samples. Use `zero_division` parameter to control this behavior.\n",
            "  _warn_prf(average, modifier, msg_start, len(result))\n",
            "/usr/local/lib/python3.7/dist-packages/sklearn/metrics/_classification.py:1308: UndefinedMetricWarning: Precision is ill-defined and being set to 0.0 in labels with no predicted samples. Use `zero_division` parameter to control this behavior.\n",
            "  _warn_prf(average, modifier, msg_start, len(result))\n",
            "/usr/local/lib/python3.7/dist-packages/sklearn/metrics/_classification.py:1308: UndefinedMetricWarning: Precision is ill-defined and being set to 0.0 in labels with no predicted samples. Use `zero_division` parameter to control this behavior.\n",
            "  _warn_prf(average, modifier, msg_start, len(result))\n",
            "/usr/local/lib/python3.7/dist-packages/sklearn/metrics/_classification.py:1308: UndefinedMetricWarning: Precision is ill-defined and being set to 0.0 in labels with no predicted samples. Use `zero_division` parameter to control this behavior.\n",
            "  _warn_prf(average, modifier, msg_start, len(result))\n",
            "/usr/local/lib/python3.7/dist-packages/sklearn/metrics/_classification.py:1308: UndefinedMetricWarning: Precision is ill-defined and being set to 0.0 in labels with no predicted samples. Use `zero_division` parameter to control this behavior.\n",
            "  _warn_prf(average, modifier, msg_start, len(result))\n",
            "/usr/local/lib/python3.7/dist-packages/sklearn/metrics/_classification.py:1308: UndefinedMetricWarning: Precision is ill-defined and being set to 0.0 in labels with no predicted samples. Use `zero_division` parameter to control this behavior.\n",
            "  _warn_prf(average, modifier, msg_start, len(result))\n"
          ]
        }
      ]
    },
    {
      "cell_type": "code",
      "metadata": {
        "id": "CaJZRfxSwEcv",
        "colab": {
          "base_uri": "https://localhost:8080/",
          "height": 223
        },
        "outputId": "57f08d93-4e95-4ba1-81e9-c8524763bb79"
      },
      "source": [
        "results_cv_straitified_1gram"
      ],
      "execution_count": null,
      "outputs": [
        {
          "output_type": "execute_result",
          "data": {
            "text/html": [
              "<div>\n",
              "<style scoped>\n",
              "    .dataframe tbody tr th:only-of-type {\n",
              "        vertical-align: middle;\n",
              "    }\n",
              "\n",
              "    .dataframe tbody tr th {\n",
              "        vertical-align: top;\n",
              "    }\n",
              "\n",
              "    .dataframe thead th {\n",
              "        text-align: right;\n",
              "    }\n",
              "</style>\n",
              "<table border=\"1\" class=\"dataframe\">\n",
              "  <thead>\n",
              "    <tr style=\"text-align: right;\">\n",
              "      <th></th>\n",
              "      <th>index</th>\n",
              "      <th>Model</th>\n",
              "      <th>Accuracy</th>\n",
              "      <th>Macro Precision</th>\n",
              "      <th>Macro Recall</th>\n",
              "      <th>Macro F1score</th>\n",
              "      <th>Weighted Precision</th>\n",
              "      <th>Weighted Recall</th>\n",
              "      <th>Weighted F1</th>\n",
              "      <th>Time taken</th>\n",
              "    </tr>\n",
              "  </thead>\n",
              "  <tbody>\n",
              "    <tr>\n",
              "      <th>0</th>\n",
              "      <td>0</td>\n",
              "      <td>MultinomialNB1</td>\n",
              "      <td>0.858094</td>\n",
              "      <td>0.352014</td>\n",
              "      <td>0.328769</td>\n",
              "      <td>0.334049</td>\n",
              "      <td>0.838411</td>\n",
              "      <td>0.858094</td>\n",
              "      <td>0.838230</td>\n",
              "      <td>30.445922</td>\n",
              "    </tr>\n",
              "    <tr>\n",
              "      <th>1</th>\n",
              "      <td>0</td>\n",
              "      <td>GaussianNB1</td>\n",
              "      <td>0.555693</td>\n",
              "      <td>0.252018</td>\n",
              "      <td>0.257251</td>\n",
              "      <td>0.244527</td>\n",
              "      <td>0.604821</td>\n",
              "      <td>0.555693</td>\n",
              "      <td>0.562513</td>\n",
              "      <td>108.363672</td>\n",
              "    </tr>\n",
              "    <tr>\n",
              "      <th>2</th>\n",
              "      <td>0</td>\n",
              "      <td>LogisticRegression1</td>\n",
              "      <td>0.904573</td>\n",
              "      <td>0.435528</td>\n",
              "      <td>0.378127</td>\n",
              "      <td>0.384980</td>\n",
              "      <td>0.883308</td>\n",
              "      <td>0.904573</td>\n",
              "      <td>0.891614</td>\n",
              "      <td>2522.540348</td>\n",
              "    </tr>\n",
              "    <tr>\n",
              "      <th>3</th>\n",
              "      <td>0</td>\n",
              "      <td>RandomForest1</td>\n",
              "      <td>0.566222</td>\n",
              "      <td>0.326971</td>\n",
              "      <td>0.150526</td>\n",
              "      <td>0.145625</td>\n",
              "      <td>0.711326</td>\n",
              "      <td>0.566222</td>\n",
              "      <td>0.471929</td>\n",
              "      <td>228.233541</td>\n",
              "    </tr>\n",
              "    <tr>\n",
              "      <th>4</th>\n",
              "      <td>0</td>\n",
              "      <td>LinearSVC1</td>\n",
              "      <td>0.908768</td>\n",
              "      <td>0.743714</td>\n",
              "      <td>0.493561</td>\n",
              "      <td>0.547539</td>\n",
              "      <td>0.902041</td>\n",
              "      <td>0.908768</td>\n",
              "      <td>0.901855</td>\n",
              "      <td>37.112729</td>\n",
              "    </tr>\n",
              "  </tbody>\n",
              "</table>\n",
              "</div>"
            ],
            "text/plain": [
              "   index                Model  ...  Weighted F1   Time taken\n",
              "0      0       MultinomialNB1  ...     0.838230    30.445922\n",
              "1      0          GaussianNB1  ...     0.562513   108.363672\n",
              "2      0  LogisticRegression1  ...     0.891614  2522.540348\n",
              "3      0        RandomForest1  ...     0.471929   228.233541\n",
              "4      0           LinearSVC1  ...     0.901855    37.112729\n",
              "\n",
              "[5 rows x 10 columns]"
            ]
          },
          "metadata": {},
          "execution_count": 46
        }
      ]
    },
    {
      "cell_type": "code",
      "source": [
        "# # Saving our results because I don't wanna re-train the whole damn thing\n",
        "to_write=open('results_cv_straitified_1gram_df.pickle', 'wb'):\n",
        "pickle.dump(results_cv_straitified_1gram, to_write)"
      ],
      "metadata": {
        "colab": {
          "base_uri": "https://localhost:8080/",
          "height": 130
        },
        "id": "-cRmXeCgiOKI",
        "outputId": "a102dc9a-36ee-49c5-a293-2338545bd96a"
      },
      "execution_count": null,
      "outputs": [
        {
          "output_type": "error",
          "ename": "SyntaxError",
          "evalue": "ignored",
          "traceback": [
            "\u001b[0;36m  File \u001b[0;32m\"<ipython-input-47-92baf7495697>\"\u001b[0;36m, line \u001b[0;32m2\u001b[0m\n\u001b[0;31m    to_write=open('results_cv_straitified_1gram_df.pickle', 'wb'):\u001b[0m\n\u001b[0m                                                                 ^\u001b[0m\n\u001b[0;31mSyntaxError\u001b[0m\u001b[0;31m:\u001b[0m invalid syntax\n"
          ]
        }
      ]
    },
    {
      "cell_type": "markdown",
      "source": [
        "**Using GoogleNews Word2Vec300d**"
      ],
      "metadata": {
        "id": "dO8TRAb5mQ5i"
      }
    },
    {
      "cell_type": "code",
      "source": [
        "## Using pre-trained GoogleNews Word2Vec\n",
        "# download from https://drive.google.com/file/d/0B7XkCwpI5KDYNlNUTTlSS21pQmM/edit\n",
        "\n",
        "num_features = 300 # depends on the pre-trained model you are loading\n",
        "\n",
        "# Path to where the word2vec file lives\n",
        "google_vec_file = '/content/drive/MyDrive/GoogleNews-vectors-negative300.bin'\n",
        "\n",
        "# Load it!  This might take a few minutes...\n",
        "word2vec_model_300d = gensim.models.KeyedVectors.load_word2vec_format(google_vec_file, binary=True)\n",
        "# it is just loading all the different weights (embedding) into python\n",
        "\n",
        "\n",
        "# Pickle word2vec 300d model so we don't have to do the above steps again and keep the damn file in our folder\n",
        "with open('word2vec_model_' + str(num_features) + 'd.pickle', 'wb') as to_write:\n",
        "    pickle.dump(word2vec_model_300d, to_write)"
      ],
      "metadata": {
        "colab": {
          "base_uri": "https://localhost:8080/"
        },
        "id": "f3Veat1jlQSH",
        "outputId": "5df289d7-4d49-47fb-b8cb-edd44a806939"
      },
      "execution_count": null,
      "outputs": [
        {
          "output_type": "error",
          "ename": "NameError",
          "evalue": "ignored",
          "traceback": [
            "\u001b[0;31m---------------------------------------------------------------------------\u001b[0m",
            "\u001b[0;31mNameError\u001b[0m                                 Traceback (most recent call last)",
            "\u001b[0;32m<ipython-input-1-540a1157aa04>\u001b[0m in \u001b[0;36m<module>\u001b[0;34m()\u001b[0m\n\u001b[1;32m      8\u001b[0m \u001b[0;34m\u001b[0m\u001b[0m\n\u001b[1;32m      9\u001b[0m \u001b[0;31m# Load it!  This might take a few minutes...\u001b[0m\u001b[0;34m\u001b[0m\u001b[0;34m\u001b[0m\u001b[0;34m\u001b[0m\u001b[0m\n\u001b[0;32m---> 10\u001b[0;31m \u001b[0mword2vec_model_300d\u001b[0m \u001b[0;34m=\u001b[0m \u001b[0mgensim\u001b[0m\u001b[0;34m.\u001b[0m\u001b[0mmodels\u001b[0m\u001b[0;34m.\u001b[0m\u001b[0mKeyedVectors\u001b[0m\u001b[0;34m.\u001b[0m\u001b[0mload_word2vec_format\u001b[0m\u001b[0;34m(\u001b[0m\u001b[0mgoogle_vec_file\u001b[0m\u001b[0;34m,\u001b[0m \u001b[0mbinary\u001b[0m\u001b[0;34m=\u001b[0m\u001b[0;32mTrue\u001b[0m\u001b[0;34m)\u001b[0m\u001b[0;34m\u001b[0m\u001b[0;34m\u001b[0m\u001b[0m\n\u001b[0m\u001b[1;32m     11\u001b[0m \u001b[0;31m# it is just loading all the different weights (embedding) into python\u001b[0m\u001b[0;34m\u001b[0m\u001b[0;34m\u001b[0m\u001b[0;34m\u001b[0m\u001b[0m\n\u001b[1;32m     12\u001b[0m \u001b[0;34m\u001b[0m\u001b[0m\n",
            "\u001b[0;31mNameError\u001b[0m: name 'gensim' is not defined"
          ]
        }
      ]
    },
    {
      "cell_type": "code",
      "source": [
        "import matplotlib.pyplot as plt\n",
        "fig = plt.figure()\n",
        "ax = fig.add_axes([0,0,1,1])\n",
        "algo = ['MultinomialNB', 'GaussianNB', 'Logistic Regression', 'RandomForest', 'LinearSVC']\n",
        "accuracy = [0.85,0.55,0.95,0.56,0.89]\n",
        "ax.bar(algo[0],accuracy[0],color = 'g')\n",
        "ax.bar(algo[1],accuracy[1],color = 'b')\n",
        "ax.bar(algo[2],accuracy[2],color = 'r')\n",
        "ax.bar(algo[3],accuracy[3],color = 'b')\n",
        "ax.bar(algo[4],accuracy[4],color = 'y')\n",
        "plt.xlabel('Classifiers ----->')\n",
        "plt.ylabel('Accuracies ---->')\n",
        "plt.title('ACCURACIES RESULTED USING TF-IDF VECTORIZER')\n",
        "plt.show()"
      ],
      "metadata": {
        "id": "2egNvYRXz9KR",
        "colab": {
          "base_uri": "https://localhost:8080/",
          "height": 366
        },
        "outputId": "ec6686a6-d281-4523-a998-3018d05ceb59"
      },
      "execution_count": null,
      "outputs": [
        {
          "output_type": "display_data",
          "data": {
            "image/png": "[encoded data removed]",
            "text/plain": [
              "<Figure size 432x288 with 1 Axes>"
            ]
          },
          "metadata": {
            "needs_background": "light"
          }
        }
      ]
    },
    {
      "cell_type": "code",
      "source": [
        "import matplotlib.pyplot as plt\n",
        "fig = plt.figure()\n",
        "ax = fig.add_axes([0,0,1,1])\n",
        "algo = ['GaussianNB', 'Logistic Regression', 'RandomForest', 'LinearSVC']\n",
        "accuracy = [0.46,0.74,0.47,0.76]\n",
        "\n",
        "ax.bar(algo[0],accuracy[0],color = 'g')\n",
        "ax.bar(algo[1],accuracy[1],color = 'r')\n",
        "ax.bar(algo[2],accuracy[2],color = 'b')\n",
        "ax.bar(algo[3],accuracy[3],color = 'y')\n",
        "plt.xlabel('Classifiers ----->')\n",
        "plt.ylabel('Accuracies ---->')\n",
        "plt.title('ACCURACIES RESULTED USING GOOGLENEWS WORD2VECTOR300D')\n",
        "plt.show()"
      ],
      "metadata": {
        "colab": {
          "base_uri": "https://localhost:8080/",
          "height": 366
        },
        "id": "Znm5hcZ4OxWX",
        "outputId": "1bba5e5a-04a5-4e8d-9fa5-1b4600dc626c"
      },
      "execution_count": null,
      "outputs": [
        {
          "output_type": "display_data",
          "data": {
            "image/png": "[encoded data removed]",
            "text/plain": [
              "<Figure size 432x288 with 1 Axes>"
            ]
          },
          "metadata": {
            "needs_background": "light"
          }
        }
      ]
    },
    {
      "cell_type": "code",
      "source": [
        "Customer_Complaint='''\n",
        "Omg where is my money?????? AOSINIONSAD WHY DID YOU GUYS TAKE MY MONEY AWAY. SAOIDNSIOADNOIAODNNIOASDNSADNOSDNOASDN\n",
        "I TRANSFERRED IT LAST NIGHT AND I WOKE UP TO NOTHING IN!!!!!! MY BANK ACCOUNT. HELP PLEASE!!!!!!!!!!!!!!!!!!!!!!!!!!!!!\n",
        "I NEED THE MONEY OR ELSE I WILL BE HUNTED BY LOAN SHARKS!!!!!!!!\n",
        "YOU *(#&$) PEOPLE HAVE NO RIGHT TO DO THIS TO ME!!!! I NEED MY MONEY!!!!\n",
        "'''\n",
        "print(pred)"
      ],
      "metadata": {
        "colab": {
          "base_uri": "https://localhost:8080/"
        },
        "id": "1QAHOmDkQWfH",
        "outputId": "b4206787-d2bc-47f1-be46-b27fdc5c028b"
      },
      "execution_count": null,
      "outputs": [
        {
          "output_type": "stream",
          "name": "stdout",
          "text": [
            "\n",
            "Omg where is my money?????? AOSINIONSAD WHY DID YOU GUYS TAKE MY MONEY AWAY. SAOIDNSIOADNOIAODNNIOASDNSADNOSDNOASDN\n",
            "I TRANSFERRED IT LAST NIGHT AND I WOKE UP TO NOTHING IN!!!!!! MY BANK ACCOUNT. HELP PLEASE!!!!!!!!!!!!!!!!!!!!!!!!!!!!!\n",
            "I NEED THE MONEY OR ELSE I WILL BE HUNTED BY LOAN SHARKS!!!!!!!!\n",
            "YOU *(#&$) PEOPLE HAVE NO RIGHT TO DO THIS TO ME!!!! I NEED MY MONEY!!!!\n",
            "\n",
            "Money tranfers: 35.25%\n",
            "Loan: 18.82%\n",
            "Mortgage: 12.65%\n",
            "Bank account or service: 9.88%\n",
            "Checking or saving account: 8.94%\n",
            "Prepaid card: 5.66%\n",
            "Other financial service: 3.59%\n",
            "debt collection: 2.27%\n"
          ]
        }
      ]
    },
    {
      "cell_type": "code",
      "source": [
        ""
      ],
      "metadata": {
        "id": "Q8blmD62Tp70"
      },
      "execution_count": null,
      "outputs": []
    }
  ]
}